{
 "cells": [
  {
   "cell_type": "raw",
   "metadata": {
    "vscode": {
     "languageId": "raw"
    }
   },
   "source": [
    "---\n",
    "format:\n",
    "    html:\n",
    "        code-fold: true\n",
    "        theme: cosmo\n",
    "jupyter: python3\n",
    "---"
   ]
  },
  {
   "cell_type": "markdown",
   "metadata": {},
   "source": [
    "# Vorbereitung auf die KA-1\n",
    "## Aufgabe 1:\n",
    "Erstelle ein Array mit den Namen von fünf Schülern [\"Anna\", \"Ben\", \"Clara\", \"David\", \"Eva\"] und gib jeden Namen mit dem Text \"Schüler: \" davor aus."
   ]
  },
  {
   "cell_type": "code",
   "execution_count": 1,
   "metadata": {},
   "outputs": [
    {
     "name": "stdout",
     "output_type": "stream",
     "text": [
      "Schüler: Anna\n",
      "Schüler: Ben\n",
      "Schüler: Clara\n",
      "Schüler: David\n",
      "Schüler: Eva\n"
     ]
    }
   ],
   "source": [
    "schueler = [\"Anna\", \"Ben\", \"Clara\", \"David\", \"Eva\"]\n",
    "for name in schueler:\n",
    "    print(\"Schüler: \" + name)"
   ]
  },
  {
   "cell_type": "markdown",
   "metadata": {},
   "source": [
    "## Aufgabe 2:\n",
    "Erstelle ein Array mit den Noten von fünf Schülern und finde die beste Note."
   ]
  },
  {
   "cell_type": "code",
   "execution_count": 3,
   "metadata": {},
   "outputs": [
    {
     "name": "stdout",
     "output_type": "stream",
     "text": [
      "Die beste Note ist: 1.7\n"
     ]
    }
   ],
   "source": [
    "noten = [3.0, 2.5, 1.7, 4.0, 2.0]\n",
    "beste_note = noten[0]\n",
    "for i in range(len(noten)):\n",
    "    if noten[i] < beste_note:\n",
    "        beste_note = noten[i]\n",
    "print(\"Die beste Note ist:\", beste_note)"
   ]
  }
 ],
 "metadata": {
  "language_info": {
   "name": "python"
  }
 },
 "nbformat": 4,
 "nbformat_minor": 2
}
