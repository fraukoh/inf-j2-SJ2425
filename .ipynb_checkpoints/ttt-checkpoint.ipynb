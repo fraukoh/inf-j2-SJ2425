{
 "cells": [
  {
   "cell_type": "code",
   "execution_count": null,
   "id": "116c7e3e",
   "metadata": {},
   "outputs": [],
   "source": [
    "print(\"Hallo Welt\")\n",
    "x = 2 + 2"
   ]
  }
 ],
 "metadata": {
  "jupytext": {
   "cell_metadata_filter": "-all",
   "main_language": "python",
   "notebook_metadata_filter": "-all"
  }
 },
 "nbformat": 4,
 "nbformat_minor": 5
}
