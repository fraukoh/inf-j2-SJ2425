{
 "cells": [
  {
   "cell_type": "raw",
   "metadata": {
    "vscode": {
     "languageId": "raw"
    }
   },
   "source": [
    "---\n",
    "format:\n",
    "    html:\n",
    "        code-fold: true\n",
    "        code-summary: \"Lösung\"\n",
    "        theme: cosmo\n",
    "        css: custom.css\n",
    "jupyter: python3\n",
    "---"
   ]
  },
  {
   "cell_type": "markdown",
   "metadata": {},
   "source": [
    "# Aufgabe 1: \tSelectionSort – Lottozahlen\n",
    "Die Zahlen der aktuellen Lottoziehung liegen in der Reihenfolge der Ziehung in einem Array lotto vor ```[48, 5, 17, 32, 7, 29]``` und sollen noch sortiert werden. Sie erhalten den Auftrag, ein entsprechendes Programm zu entwickeln, das die Lottozahlen mit Hilfe des Sortieralgorithmus 'Selection Sort' sortiert und die sortierten Zahlen in der Konsole ausgibt."
   ]
  },
  {
   "cell_type": "code",
   "execution_count": null,
   "metadata": {},
   "outputs": [],
   "source": [
    "lotto= [48, 5, 17, 32, 7, 29]\n",
    "\n",
    "laenge = len(lotto)\n",
    "for akt_idx in range(laenge-1):\n",
    "    min_idx = akt_idx\n",
    "    for j in range(akt_idx + 1, laenge):\n",
    "        #Suche nach der niedrigsten Zahl\n",
    "        if lotto[j] < lotto[min_idx]:\n",
    "            min_idx = j\n",
    "    #Tausch\n",
    "    zwischenspeicher = lotto[akt_idx]\n",
    "    lotto[akt_idx] = lotto [min_idx]\n",
    "    lotto[min_idx] = zwischenspeicher\n",
    "\n",
    "#Ausgabe\n",
    "print(lotto)"
   ]
  },
  {
   "cell_type": "markdown",
   "metadata": {},
   "source": [
    "[Struktogramm](SelectionSort-Aufgaben_files/figure-markdown_strict/cell-3-1-image.png)"
   ]
  },
  {
   "cell_type": "markdown",
   "metadata": {},
   "source": [
    "# Aufgabe 2: Sortieren von Büchern\n",
    "In einer Bibliothek sind die Bücher einer Kategorie durcheinandergeraten. Die Bücher sind durch ihre ISBN-Nummern repräsentiert und in einem Array buecher gespeichert,  \n",
    "z.B. ```[9783866801929, 9783957311320, 9783442267743, 9783423214599, 9783442314928]```.\n",
    "\n",
    "Schreiben Sie ein Programm, das die ISBN-Nummern mit dem Bubblesort-Algorithmus aufsteigend sortiert und die sortierten ISBN-Nummern in der Konsole ausgibt."
   ]
  },
  {
   "cell_type": "code",
   "execution_count": 3,
   "metadata": {},
   "outputs": [
    {
     "name": "stdout",
     "output_type": "stream",
     "text": [
      "[9783423214599, 9783442267743, 9783442314928, 9783866801929, 9783957311320]\n"
     ]
    }
   ],
   "source": [
    "isbn = [9783866801929, 9783957311320, 9783442267743, 9783423214599, 9783442314928]\n",
    "laenge = len(isbn)\n",
    "\n",
    "for akt_idx in range(laenge-1):\n",
    "    min_idx = akt_idx\n",
    "    for j in range(akt_idx + 1, laenge):\n",
    "        #Suche nach der niedrigsten Zahl\n",
    "        if isbn[j] < isbn[min_idx]:\n",
    "            min_idx = j\n",
    "    #Tausch\n",
    "    zwischenspeicher = isbn[akt_idx]\n",
    "    isbn[akt_idx] = isbn [min_idx]\n",
    "    isbn[min_idx] = zwischenspeicher\n",
    "\n",
    "#Ausgabe\n",
    "print(isbn)"
   ]
  },
  {
   "cell_type": "markdown",
   "metadata": {},
   "source": [
    "# Aufgabe 3: Sortieren von Messwerten\n",
    "In einem wissenschaftlichen Experiment wurden Messwerte erfasst und in einem Array messwerte gespeichert,   \n",
    "z.B. ```[12.5, 7.8, 3.14, 9.7, 6.2]```. Die Messwerte sollen nun für die weitere Analyse aufsteigend sortiert werden.\n",
    "\n",
    "Entwickeln Sie ein Programm, welches die Messwerte mittels Bubblesort sortiert und sowohl die unsortierten als auch die sortierten Werte in der Konsole ausgibt."
   ]
  },
  {
   "cell_type": "code",
   "execution_count": 2,
   "metadata": {},
   "outputs": [
    {
     "name": "stdout",
     "output_type": "stream",
     "text": [
      "[3.14, 6.2, 7.8, 9.7, 12.5]\n"
     ]
    }
   ],
   "source": [
    "messwerte = [12.5, 7.8, 3.14, 9.7, 6.2]\n",
    "laenge = len(messwerte)\n",
    "\n",
    "for akt_idx in range(laenge-1):\n",
    "    min_idx = akt_idx\n",
    "    for j in range(akt_idx + 1, laenge):\n",
    "        #Suche nach der niedrigsten Zahl\n",
    "        if messwerte[j] < messwerte[min_idx]:\n",
    "            min_idx = j\n",
    "    #Tausch\n",
    "    zwischenspeicher = messwerte[akt_idx]\n",
    "    messwerte[akt_idx] = messwerte [min_idx]\n",
    "    messwerte[min_idx] = zwischenspeicher\n",
    "\n",
    "#Ausgabe\n",
    "print(messwerte)"
   ]
  }
 ],
 "metadata": {
  "kernelspec": {
   "display_name": "Python 3 (ipykernel)",
   "language": "python",
   "name": "python3"
  },
  "language_info": {
   "codemirror_mode": {
    "name": "ipython",
    "version": 3
   },
   "file_extension": ".py",
   "mimetype": "text/x-python",
   "name": "python",
   "nbconvert_exporter": "python",
   "pygments_lexer": "ipython3",
   "version": "3.11.9"
  }
 },
 "nbformat": 4,
 "nbformat_minor": 4
}
