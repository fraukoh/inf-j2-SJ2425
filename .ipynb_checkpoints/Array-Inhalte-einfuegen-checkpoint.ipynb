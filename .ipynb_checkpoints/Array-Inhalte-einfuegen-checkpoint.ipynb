{
 "cells": [
  {
   "cell_type": "raw",
   "id": "396c30a3",
   "metadata": {},
   "source": [
    "---\n",
    "format:\n",
    "    html:\n",
    "        code-fold: true\n",
    "        code-summary: \"Lösung\"\n",
    "        theme: cosmo\n",
    "        css: custom.css\n",
    "jupyter: python3\n",
    "---"
   ]
  },
  {
   "cell_type": "markdown",
   "id": "d94933b3-c971-4024-bdcc-c37826584165",
   "metadata": {},
   "source": [
    "## Wiederholungsaufgabe:\n",
    "Gegeben ist ein Array arr = [2,3,4]\n",
    "\n",
    "1. Hängen Sie ein neues Element (Zahl 100) an das Array.\n",
    "1. Geben Sie das aktualisierte Array in der Schleife aus."
   ]
  },
  {
   "cell_type": "code",
   "execution_count": null,
   "id": "1d0444d6-c29f-4bd6-a8f4-e0ad665da54e",
   "metadata": {
    "jupyter": {
     "source_hidden": true
    }
   },
   "outputs": [],
   "source": [
    "arr = [2,3,4]\n",
    "arr.append(100)\n",
    "for i in range(len(arr)):\n",
    "    print(arr[i])"
   ]
  },
  {
   "cell_type": "markdown",
   "id": "ac0e6aac-d905-4e48-ab15-97e3513f18bc",
   "metadata": {},
   "source": [
    "## Elemente im Array tauschen\n",
    "1. Tauschen Sie das letzte und das vorletzte Element im Array arr.\n",
    "1. Geben Sie das aktualisierte Array in der Schleife aus."
   ]
  },
  {
   "cell_type": "code",
   "execution_count": null,
   "id": "8d75580b-e80b-4996-a804-6670c4b86a9e",
   "metadata": {
    "jupyter": {
     "source_hidden": true
    }
   },
   "outputs": [],
   "source": [
    "arr = [2,3,4,100]\n",
    "zwischengespeichert = arr[2]\n",
    "arr[2] = arr[3]\n",
    "arr[3] = zwischengespeichert\n",
    "for i in range(len(arr)):\n",
    "    print(arr[i])"
   ]
  },
  {
   "cell_type": "markdown",
   "id": "598b7412-53ed-4b1e-aba4-e4015e127da6",
   "metadata": {},
   "source": [
    "## Elemente in ein Array an beliebiger Stelle einfügen\n",
    "Neben den Möglichkeiten des Zugriffs auf Arrayelemente zur Ausgabe und Veränderung der Inhalte, besteht auch die Möglichkeit Arrayelemente hinzuzufügen.\n",
    "Ein zusätzliches Arrayelement wird mit Python grundsätzlich am Ende des Arrays eingefügt.\n",
    "Die Position, an welcher der neue Inhalt im Array stehen soll, kann über den Index dieser Position angegeben werden. Bis zu dieser Stelle wird das neue Element Schritt für Schritt \"nach vorne\" verschoben.\n",
    "\n",
    "Beispiel:\n",
    "\n",
    "Folgenes Array ist gegeben: orte = [\"Mannheim\", \"Stuttgart\", \"Freiburg\", \"Konstanz\"]\n",
    "\n",
    "Zwischen die beiden Einträge 'Stuttgart' und 'Freiburg' soll der Ort 'Esslingen' eingefügt werden. Über die Funktion append() kann Esslingen an das Ende des bestehenden Arrays angehängt werden. "
   ]
  },
  {
   "cell_type": "code",
   "execution_count": null,
   "id": "b55b7769-a098-4294-8c71-c1403bca737d",
   "metadata": {
    "jupyter": {
     "source_hidden": true
    }
   },
   "outputs": [],
   "source": [
    "orte = [\"Mannheim\", \"Stuttgart\", \"Freiburg\", \"Konstanz\"]\n",
    "stelle = 3\n",
    "orte.append(\"Esslingen\")\n",
    "for i in range(len(orte)-1,stelle,-1):\n",
    "    zwischengespeichert = orte[i]\n",
    "    orte[i] = orte[i-1]\n",
    "    orte[i-1] = zwischengespeichert\n",
    "print(orte)"
   ]
  },
  {
   "cell_type": "markdown",
   "id": "580698d5-7c63-4af7-aeda-e1f3f15a3278",
   "metadata": {},
   "source": [
    "## Aufgabe: Inhalte einfügen\n",
    "Die Software des Trainers der Abteilung Volleyball des Sportvereines Mühlberger SC enthält ein Array mit allen Spielernamen des Mannschaftskaders.  \n",
    "```kader =\t[\"Armin\", \"Batu\", \"Kai\", \"Sven\", \"Paul\", \"Milan\", \"Goran\", \"Chris\", \"Nico\", \"Dennis\", \"Emin\", \"Luca\"]```   \n",
    "Mit Hilfe der Software soll es möglich sein, an einer bestimmten Stelle einen weiteren Spielernamen einzutragen, z.B. an der Stelle mit dem Index 6.\n",
    "\n",
    "Implementieren Sie eine Funktion ```einfuegen_spieler()```, mit der ein Spieler an einer vom Anwender einzugebenden Stelle, in das Array eingefügt wird.   \n",
    "z. B.: Spielername: Tom - Index: 6   \n",
    "Das Array kader soll danach folgenden Inhalt haben:   \n",
    "```[\"Armin\", \"Batu\", \"Kai\", \"Sven\", \"Paul\", \"Milan\", \"Tom\", \"Goran\", \"Chris\", \"Nico\",\"Dennis\", \"Emin\", \"Luca\"]```"
   ]
  },
  {
   "cell_type": "code",
   "execution_count": null,
   "id": "7f6ecc63-e0d6-4c02-90a2-351950e7fb00",
   "metadata": {
    "scrolled": true
   },
   "outputs": [],
   "source": [
    "#Hier den Programmcode eingeben und mit STRG+ENTER ausführen\n",
    "kader = [\"Armin\", \"Batu\", \"Kai\", \"Sven\", \"Paul\", \"Milan\", \"Goran\", \"Chris\",\"Nico\", \"Dennis\", \"Emin\", \"Luca\"]\n",
    "\n",
    "def kader_ausgeben():\n",
    "    print(\"------------------------\")\n",
    "    print(\"Kader\")\n",
    "    print(\"------------------------\")\n",
    "    for i in range(len(kader)):\n",
    "        print(kader[i])\n",
    "\n",
    "def einfuegen_spieler():\n",
    "    spielername = input(\"Spielername: \")\n",
    "    index = int(input(\"Index: \"))\n",
    "    \n",
    "    #Einfügen an letzter Stelle\n",
    "    kader.append(spielername)                              \n",
    "    \n",
    "    #Nach vorne wandern, bis an die richtige Position\n",
    "    for i in range(len(kader)-1, index,-1):    \n",
    "        zwischenspeicher = kader[i-1]\n",
    "        kader[i-1] = kader[i]\n",
    "        kader[i] = zwischenspeicher\n",
    "    \n",
    "    kader_ausgeben()\n",
    "\n",
    "#Funktionsaufruf\n",
    "einfuegen_spieler()"
   ]
  },
  {
   "cell_type": "markdown",
   "id": "35adc26f",
   "metadata": {},
   "source": [
    "[Struktogramm](Array-Inhalte-einfuegen_files/figure-html/003b398a-cde3-4b25-8d27-4f826a386b18-1-3c4804c3-5591-47ef-aa18-f60f5d892c97.png)"
   ]
  }
 ],
 "metadata": {
  "kernelspec": {
   "display_name": "Python 3 (ipykernel)",
   "language": "python",
   "name": "python3"
  },
  "language_info": {
   "codemirror_mode": {
    "name": "ipython",
    "version": 3
   },
   "file_extension": ".py",
   "mimetype": "text/x-python",
   "name": "python",
   "nbconvert_exporter": "python",
   "pygments_lexer": "ipython3",
   "version": "3.11.9"
  }
 },
 "nbformat": 4,
 "nbformat_minor": 5
}
