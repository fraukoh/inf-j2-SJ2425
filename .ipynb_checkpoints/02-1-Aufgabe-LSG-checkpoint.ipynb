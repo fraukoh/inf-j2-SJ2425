{
 "cells": [
  {
   "cell_type": "raw",
   "metadata": {},
   "source": [
    "---\n",
    "format:\n",
    "    html:\n",
    "        code-fold: true\n",
    "        code-summary: \"Lösung\"\n",
    "        theme: cosmo\n",
    "        css: custom.css\n",
    "jupyter: python3\n",
    "---"
   ]
  },
  {
   "cell_type": "markdown",
   "metadata": {},
   "source": [
    "# Aufgabe 1:\n",
    "Formulieren Sie den Code, der die nachfolgend beschriebenen Anweisungen ausführt.\n",
    "\n",
    "## Aufgabe 1.1:\n",
    "Erzeugen Sie ein Array mit dem Namen ```weltmeister``` und den Werten 1954, 1974, 1990 und 2014."
   ]
  },
  {
   "cell_type": "code",
   "execution_count": 1,
   "metadata": {},
   "outputs": [],
   "source": [
    "weltmeister=[1954, 1974,1990,2014]"
   ]
  },
  {
   "cell_type": "markdown",
   "metadata": {},
   "source": [
    "## Aufgabe 1.2:\n",
    "Erzeugen Sie ein Array ```wmtrainer``` und den Werten „Sepp Herberger“, „Helmut Schön“ und „Franz Beckenbauer“:"
   ]
  },
  {
   "cell_type": "code",
   "execution_count": 9,
   "metadata": {},
   "outputs": [],
   "source": [
    "wmtrainer=[\"Sepp Herberger\",\"Helmut Schön\",\"Franz Beckenbauer\"]"
   ]
  },
  {
   "cell_type": "markdown",
   "metadata": {},
   "source": [
    "## Aufgabe 1.3:\n",
    "Fügen Sie in die Liste ```wmtrainer``` den Namen „Joachim Löw“ am Ende ein:"
   ]
  },
  {
   "cell_type": "code",
   "execution_count": 10,
   "metadata": {},
   "outputs": [],
   "source": [
    "wmtrainer.append(\"Joachim Löw\")"
   ]
  },
  {
   "cell_type": "markdown",
   "metadata": {},
   "source": [
    "## Aufgabe 1.4:\n",
    "Im Array ```weltmeister``` sind die Jahre gespeichert, in denen die deutsche Fußball-Nationalmannschaft Weltmeister geworden ist. Die Anzahl der Weltmeistertitel soll in der Konsole ausgegeben werden."
   ]
  },
  {
   "cell_type": "code",
   "execution_count": 11,
   "metadata": {},
   "outputs": [
    {
     "name": "stdout",
     "output_type": "stream",
     "text": [
      "Anzahl der Weltmeistertitel = 4\n"
     ]
    }
   ],
   "source": [
    "anz=len(weltmeister)\n",
    "print(\"Anzahl der Weltmeistertitel =\", anz)"
   ]
  },
  {
   "cell_type": "markdown",
   "metadata": {},
   "source": [
    "## Aufgabe 1.5:\n",
    "Alle im Array ```wmtrainer``` gespeicherten Namen sollen in der Konsole angezeigt werden."
   ]
  },
  {
   "cell_type": "code",
   "execution_count": 12,
   "metadata": {},
   "outputs": [
    {
     "name": "stdout",
     "output_type": "stream",
     "text": [
      "Sepp Herberger\n",
      "Helmut Schön\n",
      "Franz Beckenbauer\n",
      "Joachim Löw\n"
     ]
    }
   ],
   "source": [
    "for i in range(len(wmtrainer)):\n",
    "    print(wmtrainer[i])"
   ]
  },
  {
   "cell_type": "markdown",
   "metadata": {},
   "source": [
    "# Aufgabe 2:\n",
    "Gegeben ist das folgende Array ```a = [1, 5, 20, 9, 4, 3, 1]```\n",
    "Schreiben Sie die aktuellen Werte des Arrays a, nach den folgenden Anweisungen:"
   ]
  },
  {
   "cell_type": "markdown",
   "metadata": {},
   "source": [
    "```a[1] = a[2]```  "
   ]
  },
  {
   "cell_type": "markdown",
   "metadata": {},
   "source": [
    "<details> <summary>Klicke hier um die Lösungen anzuzeigen</summary>\n",
    "Array-Inhalt: ```a = [1, 20, 20, 9, 4, 3, 1]```\n",
    "</details>"
   ]
  },
  {
   "cell_type": "markdown",
   "metadata": {},
   "source": [
    "```a[5] = a[5] + a[6]```  "
   ]
  },
  {
   "cell_type": "markdown",
   "metadata": {},
   "source": [
    "<details> <summary>Klicke hier um die Lösungen anzuzeigen</summary>\n",
    "Array-Inhalt: ```a = [1, 20, 20, 9, 4, 4, 1]```\n",
    "</details>"
   ]
  },
  {
   "cell_type": "markdown",
   "metadata": {},
   "source": [
    "```a[6] = 4```  "
   ]
  },
  {
   "cell_type": "markdown",
   "metadata": {},
   "source": [
    "<details> <summary>Klicke hier um die Lösungen anzuzeigen</summary>\n",
    "Array-Inhalt:  ```a = [1, 20, 20, 9, 4, 4, 4]```\n",
    "</details>"
   ]
  },
  {
   "cell_type": "markdown",
   "metadata": {},
   "source": [
    "```a.append(4)```  "
   ]
  },
  {
   "cell_type": "markdown",
   "metadata": {},
   "source": [
    "<details> <summary>Klicke hier um die Lösungen anzuzeigen</summary>\n",
    "Array-Inhalt: ```a = [1, 20, 20, 9, 4, 4, 4, 4]```\n",
    "</details>"
   ]
  },
  {
   "cell_type": "markdown",
   "metadata": {},
   "source": [
    "```i = 3```  \n",
    "```a[i] = i```  "
   ]
  },
  {
   "cell_type": "markdown",
   "metadata": {},
   "source": [
    "<details> <summary>Klicke hier um die Lösungen anzuzeigen</summary>\n",
    "Array-Inhalt: ```a = [1, 20, 20, 3, 4, 4, 4, 4]```\n",
    "</details>"
   ]
  }
 ],
 "metadata": {
  "kernelspec": {
   "display_name": "Python 3 (ipykernel)",
   "language": "python",
   "name": "python3"
  },
  "language_info": {
   "codemirror_mode": {
    "name": "ipython",
    "version": 3
   },
   "file_extension": ".py",
   "mimetype": "text/x-python",
   "name": "python",
   "nbconvert_exporter": "python",
   "pygments_lexer": "ipython3",
   "version": "3.11.9"
  }
 },
 "nbformat": 4,
 "nbformat_minor": 4
}
