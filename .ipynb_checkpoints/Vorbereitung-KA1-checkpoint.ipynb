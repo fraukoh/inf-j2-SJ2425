{
 "cells": [
  {
   "cell_type": "raw",
   "metadata": {
    "vscode": {
     "languageId": "raw"
    }
   },
   "source": [
    "---\n",
    "format:\n",
    "    html:\n",
    "        code-fold: true\n",
    "        code-summary: \"Lösung\"\n",
    "        theme: cosmo\n",
    "        css: custom.css\n",
    "jupyter: python3\n",
    "---"
   ]
  },
  {
   "cell_type": "markdown",
   "metadata": {},
   "source": [
    "# Vorbereitung auf die KA-1\n",
    "## Aufgabe 1:\n",
    "Erstelle ein Array mit den Namen von fünf Schülern ```[\"Anna\", \"Ben\", \"Clara\", \"David\", \"Eva\"]``` und gib jeden Namen mit dem Text \"Schüler: \" davor aus."
   ]
  },
  {
   "cell_type": "code",
   "execution_count": 1,
   "metadata": {},
   "outputs": [
    {
     "name": "stdout",
     "output_type": "stream",
     "text": [
      "Schüler: Anna\n",
      "Schüler: Ben\n",
      "Schüler: Clara\n",
      "Schüler: David\n",
      "Schüler: Eva\n"
     ]
    }
   ],
   "source": [
    "schueler = [\"Anna\", \"Ben\", \"Clara\", \"David\", \"Eva\"]\n",
    "for name in schueler:\n",
    "    print(\"Schüler: \" + name)"
   ]
  },
  {
   "cell_type": "markdown",
   "metadata": {},
   "source": [
    "## Aufgabe 2:\n",
    "Erstelle ein Array mit den Noten von fünf Schülern ```noten = [3.0, 2.5, 1.7, 4.0, 2.0]``` und finde die beste Note."
   ]
  },
  {
   "cell_type": "code",
   "execution_count": 3,
   "metadata": {},
   "outputs": [
    {
     "name": "stdout",
     "output_type": "stream",
     "text": [
      "Die beste Note ist: 1.7\n"
     ]
    }
   ],
   "source": [
    "noten = [3.0, 2.5, 1.7, 4.0, 2.0]\n",
    "beste_note = noten[0]\n",
    "for i in range(len(noten)):\n",
    "    if noten[i] < beste_note:\n",
    "        beste_note = noten[i]\n",
    "print(\"Die beste Note ist:\", beste_note)"
   ]
  },
  {
   "cell_type": "markdown",
   "metadata": {},
   "source": [
    "## Aufgabe 3:\n",
    "Erstelle ein Array mit den Alter von Schülern. ```alter = [15, 18, 18, 17, 15, 16]``` Ermittle die Anzahl der nicht volljährigen Schüler und gebe sie aus."
   ]
  },
  {
   "cell_type": "code",
   "execution_count": 4,
   "metadata": {},
   "outputs": [
    {
     "name": "stdout",
     "output_type": "stream",
     "text": [
      "Die Anzahl der Schüler unter 18: 4\n"
     ]
    }
   ],
   "source": [
    "alter = [15, 18, 18, 17, 15, 16]\n",
    "anzahl = 0\n",
    "for i in range(len(alter)):\n",
    "    if alter[i] < 18:\n",
    "        anzahl = anzahl + 1\n",
    "print(\"Die Anzahl der Schüler unter 18:\", anzahl)"
   ]
  },
  {
   "cell_type": "markdown",
   "metadata": {},
   "source": [
    "## Aufgabe 4:\n",
    "Erstelle ein Array mit den Fächern ```[\"Mathematik\", \"Biologie\", \"Chemie\"]``` und füge das Fach \"Informatik\" hinzu.\n",
    "\n",
    "Das Fach \"Informatik\" soll an die zweite Stelle (= nach Mathematik) kommen."
   ]
  },
  {
   "cell_type": "code",
   "execution_count": 6,
   "metadata": {},
   "outputs": [
    {
     "name": "stdout",
     "output_type": "stream",
     "text": [
      "Aktualisierte Fächer: ['Mathematik', 'Informatik', 'Biologie', 'Chemie']\n"
     ]
    }
   ],
   "source": [
    "faecher = [\"Mathematik\", \"Biologie\", \"Chemie\"]\n",
    "faecher.append(\"Informatik\")\n",
    "stelle = 1\n",
    "for i in range(len(faecher)-1, stelle, -1):\n",
    "    zwischengespeichert = faecher[i]\n",
    "    faecher[i] = faecher[i-1]\n",
    "    faecher[i-1] = zwischengespeichert \n",
    "print(\"Aktualisierte Fächer:\", faecher)"
   ]
  },
  {
   "cell_type": "markdown",
   "metadata": {},
   "source": [
    "## Aufgabe 5:\n",
    " Erstelle ein Array mit den Hobbys ```[\"Fußball\", \"Lesen\", \"Schwimmen\", \"Musik\"]``` und entferne das zweite Element aus diesem Array."
   ]
  },
  {
   "cell_type": "code",
   "execution_count": 8,
   "metadata": {},
   "outputs": [
    {
     "name": "stdout",
     "output_type": "stream",
     "text": [
      "Aktualisierte Hobbys: ['Fußball', 'Schwimmen', 'Musik']\n"
     ]
    }
   ],
   "source": [
    "hobbys = [\"Fußball\", \"Lesen\", \"Schwimmen\", \"Musik\"]\n",
    "stelle = 1\n",
    "for i in range(1, len(hobbys)-1):\n",
    "    hobbys[i] = hobbys[i+1]\n",
    "hobbys = hobbys[0:len(hobbys)-1]\n",
    "print(\"Aktualisierte Hobbys:\", hobbys)\n"
   ]
  },
  {
   "cell_type": "markdown",
   "metadata": {},
   "source": [
    "## Aufgabe 6:\n",
    "Erstelle ein Array mit den Namen von Projekten ```[\"Webseite\", \"App\", \"Datenbank\", \"Spiel\"]``` und sortiere sie alphabetisch mit BubbleSort."
   ]
  },
  {
   "cell_type": "code",
   "execution_count": 13,
   "metadata": {},
   "outputs": [
    {
     "name": "stdout",
     "output_type": "stream",
     "text": [
      "Sortierte Projekte: ['App', 'Datenbank', 'Spiel', 'Webseite']\n"
     ]
    }
   ],
   "source": [
    "projekte = [\"Webseite\", \"App\", \"Datenbank\", \"Spiel\"]\n",
    "n = len(projekte) # Länge des Arrays\n",
    "\n",
    "# BubbleSort Algorithmus\n",
    "for i in range(n): # wiederhole so oft, wie viele Elemente im Array sind\n",
    "    for j in range(0, n-i-1): # gehe die Elemete durch. Die Länge des Vektors wird immer kleiner\n",
    "        if projekte[j] > projekte[j+1]: # wenn das aktuelle Element größer ist als der rechte Nachbar\n",
    "            # Tauschen\n",
    "            zwischengespeichert = projekte[j]\n",
    "            projekte[j] = projekte[j+1]\n",
    "            projekte[j+1] = zwischengespeichert\n",
    "# Ausgeben des sortirten Arrays\n",
    "print(\"Sortierte Projekte:\", projekte)\n"
   ]
  },
  {
   "cell_type": "markdown",
   "metadata": {},
   "source": [
    "## Aufgabe 7:\n",
    "Gegeben sind zwei Arrays:\n",
    "\n",
    "Lehrernamen: ```lehrer = [\"Lisa Mayer\", \"Manfred Lutz\", \"Johannes Klug\", \"Markus Sommer\", \"Jutta Kaiser\"]```  \n",
    "Jeweilige Lehrerkürzel: ```kuerzel = [\"ma\", \"lu\", \"kl\", \"so\", \"ka\"]```\n",
    "   \n",
    "Schreibe ein Programm, dass bei Eingabe eines oben genannten Kürzels der jeweilige Lehrername angezeigt wird."
   ]
  },
  {
   "cell_type": "code",
   "execution_count": 14,
   "metadata": {},
   "outputs": [
    {
     "name": "stdout",
     "output_type": "stream",
     "text": [
      "Der volle Name der Lehrkraft mit dem Kürzel kl ist Johannes Klug\n"
     ]
    }
   ],
   "source": [
    "lehrer = [\"Lisa Mayer\", \"Manfred Lutz\", \"Johannes Klug\", \"Markus Sommer\", \"Jutta Kaiser\"]\n",
    "kuerzel = [\"ma\", \"lu\", \"kl\", \"so\", \"ka\"]\n",
    "\n",
    "kur = input(\"Bitte Lehrerkürzel eingeben:\")\n",
    "for i in range(len(kuerzel)):\n",
    "    if kuerzel[i] == kur:\n",
    "        print(\"Der volle Name der Lehrkraft mit dem Kürzel\", kur, \"ist\", lehrer[i])"
   ]
  },
  {
   "cell_type": "markdown",
   "metadata": {},
   "source": []
  }
 ],
 "metadata": {
  "kernelspec": {
   "display_name": "Python 3 (ipykernel)",
   "language": "python",
   "name": "python3"
  },
  "language_info": {
   "codemirror_mode": {
    "name": "ipython",
    "version": 3
   },
   "file_extension": ".py",
   "mimetype": "text/x-python",
   "name": "python",
   "nbconvert_exporter": "python",
   "pygments_lexer": "ipython3",
   "version": "3.11.9"
  }
 },
 "nbformat": 4,
 "nbformat_minor": 4
}
