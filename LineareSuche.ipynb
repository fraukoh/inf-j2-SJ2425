{
 "cells": [
  {
   "cell_type": "raw",
   "metadata": {},
   "source": [
    "---\n",
    "format:\n",
    "    html:\n",
    "        code-fold: true\n",
    "        theme: cosmo\n",
    "jupyter: python3\n",
    "---"
   ]
  },
  {
   "cell_type": "markdown",
   "metadata": {},
   "source": [
    "# Aufgabe 1:\n",
    "Implementieren Sie ein Programm, das überprüft, ob ein Besucher der Mitgliederversammlung zu-gangsberechtigt ist. Dafür soll am Eingang die Mitgliedsnummer in das Programm eingegeben werden. Nach der Eingabe der Mitgliedsnummer wird geprüft, ob die eingegebene Nummer existiert. Alle ver¬gebenen Mitgliedsnummern des Vereins sind im Array ```mnr``` erfasst.    \n",
    "```mnr =  [1001, 1019, 1014, 1009, 1005, 1002, 1018, 1008, 1003, 1010, 1007, 1004, 1020, 1013, 1015, 1011, 1017, 1012, 1006, 1016]```   \n",
    "Wird die eingegebene Mitgliedsnummer gefunden, soll die Meldung „Zutritt gewährt“ ausgegeben werden. Wird die Nummer nicht gefunden, soll die Meldung „Zutritt verweigert“ erscheinen."
   ]
  },
  {
   "cell_type": "code",
   "execution_count": 2,
   "metadata": {},
   "outputs": [
    {
     "name": "stdout",
     "output_type": "stream",
     "text": [
      "Mitgliedsnummer eingeben:  1008\n"
     ]
    },
    {
     "name": "stdout",
     "output_type": "stream",
     "text": [
      "Zutritt gewährt\n"
     ]
    }
   ],
   "source": [
    "#Mitgliedsnummern\n",
    "mnr = [1001, 1019, 1014, 1009, 1005, 1002, 1018, 1008, 1003, 1010, 1007, 1004, 1020, 1013, 1015, 1011, 1017, 1012, 1006, 1016]\n",
    "\n",
    "#Eingabe\n",
    "nummer = int(input(\"Mitgliedsnummer eingeben: \"))\n",
    "\n",
    "laenge = len(mnr)\n",
    "gefunden = False\n",
    "\n",
    "#Suche\n",
    "for i in range(laenge):\n",
    "    if mnr[i] == nummer:\n",
    "        gefunden = True\n",
    "\n",
    "#Ausgabe\n",
    "if gefunden:\n",
    "    print(\"Zutritt gewährt\")\n",
    "else:\n",
    "    print(\"Zutritt verweigert\")"
   ]
  },
  {
   "cell_type": "markdown",
   "metadata": {},
   "source": [
    "[Struktogramm](LineareSuche_files/figure-markdown_strict/cell-3-1-24a4adc0-270a-420e-aefd-db9fe1eebc64.png)"
   ]
  },
  {
   "cell_type": "markdown",
   "metadata": {},
   "source": [
    "# Aufgabe 2: Lineare Suche – Verschlüsselung von Buchstaben\n",
    "Die Verschlüsselung wird im Zeitalter der Digitalisierung immer wichtiger. Mit Hilfe einer einfachen Verschlüsselungstechnik (Transposition) sollen einzelne Großbuchstaben verschlüsselt werden. \n",
    "Dazu wurden die Buchstaben des Alphabets im Array ```alphabet_klar``` und die Buchstaben für die Verschlüsselung im Array ```alphabet_geheim``` erfasst.\n",
    "\n",
    "||||||||||\n",
    "|-|-|-|-|-|-|-|-|-|\n",
    "|Klartext:|A|B|C|D|E|F|usw.|Array: alphabet_klar|\n",
    "|verschlüsselter Text:|A|D|Z|V|P|H|usw.|Array: alphabet_geheim|\n",
    "\n",
    "Gibt der Benutzer beispielsweise den Großbuchstaben B ein, soll er als Ausgabe den verschlüsselten Buchstaben D enthalten, gibt er ein E ein soll er eine Ausgabe mit dem Buchstaben P erhalten usw. \n",
    "So kann der Benutzer nach und nach einen Text verschlüsseln. \n",
    "Implementieren Sie unter Anwendung der linearen Suche eine Lösung für die beschriebene Aufga-benstellung."
   ]
  },
  {
   "cell_type": "code",
   "execution_count": 3,
   "metadata": {},
   "outputs": [
    {
     "name": "stdout",
     "output_type": "stream",
     "text": [
      "Klarbuchstabe:  D\n"
     ]
    },
    {
     "name": "stdout",
     "output_type": "stream",
     "text": [
      "Geheimbuchstabe: V\n"
     ]
    }
   ],
   "source": [
    "#Alphabete\n",
    "alphabet_klar = [\"A\", \"B\", \"C\", \"D\", \"E\", \"F\", \"G\", \"H\", \"I\", \"J\", \"K\", \"L\", \"M\", \"N\", \"O\", \"P\", \"Q\", \"R\", \"S\", \"T\", \"U\", \"V\", \"W\", \"X\", \"Y\", \"Z\"]\n",
    "alphabet_geheim = [\"A\", \"D\", \"Z\", \"V\", \"P\", \"H\", \"W\", \"X\", \"B\", \"Q\", \"R\", \"C\", \"O\", \"Y\", \"E\", \"G\", \"U\", \"L\", \"M\", \"F\", \"J\", \"S\", \"T\", \"I\", \"K\", \"N\"]\n",
    "\n",
    "#Eingabe\n",
    "buchstabe_klar = input(\"Klarbuchstabe: \")\n",
    "\n",
    "for i in range(len(alphabet_klar)):\n",
    "    if buchstabe_klar == alphabet_klar[i]:\n",
    "        buchstabe_geheim = alphabet_geheim[i]\n",
    "\n",
    "#Ausgabe\n",
    "print(\"Geheimbuchstabe:\", buchstabe_geheim)"
   ]
  },
  {
   "cell_type": "markdown",
   "metadata": {},
   "source": [
    "[Struktogramm](LineareSuche_files/figure-markdown_strict/cell-6-1-99d13177-02c6-48f0-9671-365e2dcf9918.png)"
   ]
  },
  {
   "cell_type": "markdown",
   "metadata": {},
   "source": [
    "# Aufgabe 3: Volleyball – Spieler suchen\n",
    "Der Trainer der Abteilung Volleyball des Sportvereins Mühlberger SC möchte eine Erweiterung seiner Software.    \n",
    "Nach der Eingabe eines Spielernamens möchte er eine Information angezeigt bekommen, ob der Spieler im Mannschaftskader ist oder nicht.   \n",
    "Die Namen aller Spieler des Mannschaftskaders sind in dem Array kader erfasst.   \n",
    "\n",
    "```kader = ['Armin', 'Batu', 'Kai', 'Sven', 'Paul', 'Milan', 'Goran', 'Chris', 'Nico', 'Dennis', 'Emin', 'Luca']```\n",
    "\n",
    "Der erforderliche Algorithmus soll so optimiert sein, dass die Suche im Array kader beendet wird, sobald der gesuchte Spieler gefunden wurde."
   ]
  },
  {
   "cell_type": "code",
   "execution_count": 4,
   "metadata": {},
   "outputs": [
    {
     "name": "stdout",
     "output_type": "stream",
     "text": [
      "Gesuchter Spielername:  Chris\n"
     ]
    },
    {
     "name": "stdout",
     "output_type": "stream",
     "text": [
      "Spieler ist im Mannschaftskader\n"
     ]
    }
   ],
   "source": [
    "kader = [\"Armin\", \"Batu\", \"Kai\", \"Sven\", \"Paul\", \"Milan\", \"Goran\", \"Chris\", \"Nico\", \"Dennis\", \"Emin\", \"Luca\"]\n",
    "\n",
    "spielername = input(\"Gesuchter Spielername: \")\n",
    "gefunden = False\n",
    "zaehler = 0\n",
    "\n",
    "#Suche\n",
    "while gefunden == False and zaehler < len(kader):\n",
    "    if spielername == kader[zaehler]:\n",
    "        gefunden = True\n",
    "    else:\n",
    "        zaehler = zaehler + 1\n",
    "\n",
    "#Ausgabe\n",
    "if gefunden:\n",
    "    print(\"Spieler ist im Mannschaftskader\")\n",
    "else:\n",
    "    print(\"Spieler ist nicht im Mannschaftskader\")"
   ]
  },
  {
   "cell_type": "markdown",
   "metadata": {},
   "source": [
    "[Struktogramm](/LineareSuche_files/figure-markdown_strict/cell-9-1-18b9c6b5-9852-4187-b16d-562a1c318d99.png)"
   ]
  }
 ],
 "metadata": {
  "kernelspec": {
   "display_name": "Python 3 (ipykernel)",
   "language": "python",
   "name": "python3"
  },
  "language_info": {
   "codemirror_mode": {
    "name": "ipython",
    "version": 3
   },
   "file_extension": ".py",
   "mimetype": "text/x-python",
   "name": "python",
   "nbconvert_exporter": "python",
   "pygments_lexer": "ipython3",
   "version": "3.11.8"
  }
 },
 "nbformat": 4,
 "nbformat_minor": 4
}
