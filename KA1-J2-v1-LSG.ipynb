{
 "cells": [
  {
   "cell_type": "markdown",
   "metadata": {},
   "source": [
    "# Aufgabe 1 [3 P]:\n",
    "Erstellen Sie ein Array mit den Lieblingsfächern ```[\"Mathematik\", \"Biologie\", \"Informatik\", \"Chemie\", \"Geschichte\"]``` und geben Sie jedes Fach mit dem Text \"Lieblingsfach: \" davor aus."
   ]
  },
  {
   "cell_type": "code",
   "execution_count": 1,
   "metadata": {},
   "outputs": [
    {
     "name": "stdout",
     "output_type": "stream",
     "text": [
      "Lieblingsfach: Mathematik\n",
      "Lieblingsfach: Biologie\n",
      "Lieblingsfach: Informatik\n",
      "Lieblingsfach: Chemie\n",
      "Lieblingsfach: Geschichte\n"
     ]
    }
   ],
   "source": [
    "lieblingsfaecher = [\"Mathematik\", \"Biologie\", \"Informatik\", \"Chemie\", \"Geschichte\"]\n",
    "for i in range(len(lieblingsfaecher)):\n",
    "    print(\"Lieblingsfach: \" + lieblingsfaecher[i])"
   ]
  },
  {
   "cell_type": "markdown",
   "metadata": {},
   "source": [
    "# Aufgabe 2 [4 P]:\n",
    "Erstellen Sie ein Array mit den monatlichen Ausgaben ```[200, 250, 300, 150, 400, 350, 280, 320, 370, 410, 380, 450]``` und berechnen Sie die Gesamtausgaben der **ersten Hälfte** des Jahres.\n",
    "\n",
    "Hinweis: Verwenden Sie dafür eine Schleife"
   ]
  },
  {
   "cell_type": "code",
   "execution_count": 2,
   "metadata": {},
   "outputs": [
    {
     "name": "stdout",
     "output_type": "stream",
     "text": [
      "Die Gesamtausgaben der ersten Hälfte des Jahres sind: 1650\n"
     ]
    }
   ],
   "source": [
    "ausgaben = [200, 250, 300, 150, 400, 350, 280, 320, 370, 410, 380, 450]\n",
    "erste_haelfte_ausgaben = 0\n",
    "for i in range(6):\n",
    "    erste_haelfte_ausgaben = erste_haelfte_ausgaben + ausgaben[i]\n",
    "print(\"Die Gesamtausgaben der ersten Hälfte des Jahres sind:\", erste_haelfte_ausgaben)"
   ]
  },
  {
   "cell_type": "markdown",
   "metadata": {},
   "source": [
    "# Aufgabe 3 [4 P]:\n",
    "Erstellen Sie ein Array mit den Projekten des Schuljahres ```[\"Kunstausstellung\", \"Sporttag\", \"Wissenschaftsmesse\"]``` und fügen Sie das Projekt \"Schulwebsite\" an der ersten Stelle (=ganz am Anfang) hinzu."
   ]
  },
  {
   "cell_type": "code",
   "execution_count": 4,
   "metadata": {},
   "outputs": [
    {
     "name": "stdout",
     "output_type": "stream",
     "text": [
      "Aktualisierte Projekte: ['Schulwebsite', 'Kunstausstellung', 'Sporttag', 'Wissenschaftsmesse']\n"
     ]
    }
   ],
   "source": [
    "projekte = [\"Kunstausstellung\", \"Sporttag\", \"Wissenschaftsmesse\"]\n",
    "projekte.append(\"Schulwebsite\")\n",
    "for i in range(len(projekte)-1, 0, -1):\n",
    "    zwischengespeichert = projekte[i]\n",
    "    projekte[i] = projekte[i-1]\n",
    "    projekte[i-1] = zwischengespeichert\n",
    "print(\"Aktualisierte Projekte:\", projekte)"
   ]
  },
  {
   "cell_type": "markdown",
   "metadata": {},
   "source": [
    "# Aufgabe 4 [4 P]:\n",
    "Gegeben sind zwei Arrays:\n",
    "\n",
    "```kunden = [\"Max Mustermann\", \"Erika Musterfrau\", \"Hans Müller\", \"Anna Schmidt\", \"Peter Meier\"]```   \n",
    "```kundennummern = [\"001\", \"002\", \"003\", \"004\", \"005\"]```\n",
    "\n",
    "Schreiben Sie ein Programm, das bei Eingabe einer oben genannten Kundennummer den jeweiligen Kundennamen anzeigt."
   ]
  },
  {
   "cell_type": "code",
   "execution_count": 6,
   "metadata": {},
   "outputs": [
    {
     "name": "stdout",
     "output_type": "stream",
     "text": [
      "Der Kunde mit der Kundennummer 003 ist: Hans Müller\n"
     ]
    }
   ],
   "source": [
    "kunden = [\"Max Mustermann\", \"Erika Musterfrau\", \"Hans Müller\", \"Anna Schmidt\", \"Peter Meier\"]\n",
    "kundennummern = [\"001\", \"002\", \"003\", \"004\", \"005\"]\n",
    "\n",
    "eingabe_nummer = input(\"Bitte geben Sie die Kundennummer ein: \")\n",
    "for i in range(len(kundennummern)):\n",
    "    if eingabe_nummer == kundennummern[i]:\n",
    "        print(\"Der Kunde mit der Kundennummer\", eingabe_nummer, \"ist:\", kunden[i])"
   ]
  },
  {
   "cell_type": "markdown",
   "metadata": {},
   "source": [
    "# Aufgabe 5 [6 P]:\n",
    "Erstellen Sie ein Array mit den Namen von Autoren ```[\"Hermann Hesse\", \"Franz Kafka\", \"Thomas Mann\", \"Bertolt Brecht\"]``` und sortieren Sie sie alphabetisch mit BubbleSort."
   ]
  },
  {
   "cell_type": "code",
   "execution_count": 8,
   "metadata": {},
   "outputs": [
    {
     "name": "stdout",
     "output_type": "stream",
     "text": [
      "Sortierte Autoren: ['Bertolt Brecht', 'Franz Kafka', 'Hermann Hesse', 'Thomas Mann']\n"
     ]
    }
   ],
   "source": [
    "autoren = [\"Hermann Hesse\", \"Franz Kafka\", \"Thomas Mann\", \"Bertolt Brecht\"]\n",
    "n = len(autoren)\n",
    "\n",
    "# BubbleSort Algorithmus\n",
    "for i in range(n):\n",
    "    for j in range(0, n-i-1):\n",
    "        if autoren[j] > autoren[j+1]:\n",
    "            zwischengespeichert = autoren[j]\n",
    "            autoren[j] = autoren[j+1]\n",
    "            autoren[j+1] = zwischengespeichert\n",
    "\n",
    "print(\"Sortierte Autoren:\", autoren)\n"
   ]
  }
 ],
 "metadata": {
  "language_info": {
   "name": "python"
  }
 },
 "nbformat": 4,
 "nbformat_minor": 2
}
