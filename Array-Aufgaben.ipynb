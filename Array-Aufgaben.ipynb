{
 "cells": [
  {
   "cell_type": "raw",
   "id": "5e1924f9-398a-40ab-97b9-bb7dd96c6ed3",
   "metadata": {},
   "source": [
    "---\n",
    "format:\n",
    "    html:\n",
    "        code-fold: true\n",
    "        theme: cosmo\n",
    "jupyter: python3\n",
    "---"
   ]
  },
  {
   "cell_type": "markdown",
   "id": "c0477f4f-3bc6-49a0-9286-d03e3a2be0bf",
   "metadata": {},
   "source": [
    "# Übungsaufgaben zu Arrays in python"
   ]
  },
  {
   "cell_type": "markdown",
   "id": "8fed80ea-ab09-40bd-a06f-7561dfd72f8c",
   "metadata": {},
   "source": [
    "# Aufgabe 1"
   ]
  },
  {
   "cell_type": "markdown",
   "id": "8dcf3d26-ee34-43d9-acc7-f6a6567269af",
   "metadata": {},
   "source": [
    "## Ausgabe von Arrays – Vereinsmeisterschaften\n",
    "\n",
    "Der Mühlberger SC ist ein Sportverein mit mehreren Abteilungen. Im Jahr 2016 eröffnete der Mühlberger SC die Abteilung DART. Seit dem Jahr 2017 finden auch Vereinsmeisterschaften statt.\n",
    "\n",
    "Die Vereinsmeisterschaft in diesem Jahr war ein großer Erfolg. Die Spieler lieferten sich einen spannenden Wettkampf vor vielen Zuschauern. Der Mühlberger SC möchte die Ergebnisse des Wettkampfs veröffentlichen. Nutzer sollen die Möglichkeit haben, sich an einem Computer eine Platzierung ausgeben zu lassen. Möchte der Nutzer den Erstplatzierten ausgegeben bekommen, muss er bspw. eine „1“ eingeben. Außerdem soll die Teilnehmerzahl angezeigt werden. Die Teilnehmer an der Meisterschaft sind in dem Array platzierungen in der Reihenfolge ihrer Platzierung gespeichert:\n",
    "\n",
    "[\"Matthias Schmitt\", \"Felix Holzmann\", \"Sabrina Eggers\", \"Sebastian Wolf\", \"Niklas Eisenbaum\", \"Florian Kuster\", \"Jan Ackerman\", \"Erika Ebersbacher\"]"
   ]
  },
  {
   "cell_type": "code",
   "execution_count": 4,
   "id": "fd65ff4e-7b68-4889-8b2e-a0b4a07df6b8",
   "metadata": {},
   "outputs": [
    {
     "name": "stdout",
     "output_type": "stream",
     "text": [
      "Platzierung?:  1\n"
     ]
    },
    {
     "name": "stdout",
     "output_type": "stream",
     "text": [
      "Platzierung: Matthias Schmitt\n",
      "Teilnehmerzahl: 8\n"
     ]
    }
   ],
   "source": [
    "platzierungen = [\"Matthias Schmitt\", \"Felix Holzmann\", \"Sabrina Eggers\", \"Sebastian Wolf\", \"Niklas Eisenbaum\", \"Florian Kuster\", \"Jan Ackerman\", \"Erika Ebersbacher\"]\n",
    "platz=int(input(\"Platzierung?: \"))\n",
    "print(\"Platzierung:\", platzierungen[platz-1])\n",
    "print(\"Teilnehmerzahl:\", len(platzierungen))"
   ]
  },
  {
   "cell_type": "markdown",
   "id": "b7644ccc",
   "metadata": {},
   "source": [
    "[Struktogramm](Array-Aufgaben_files/figure-html/d84b5e0c-15f0-49ea-b46c-3460aa237d32-1-4fa2810a-0460-4e1b-beda-b3213590157d.png)"
   ]
  },
  {
   "cell_type": "markdown",
   "id": "0e120bdc-6dd6-4949-ad42-ccf68877de78",
   "metadata": {},
   "source": [
    "# Aufgabe 2:"
   ]
  },
  {
   "cell_type": "markdown",
   "id": "ef5b80b7-8811-4fbb-ab57-45d5d3467cce",
   "metadata": {},
   "source": [
    "### Implementierung von Arrays – Gewinnziehung\n",
    "\n",
    "Der Mühlberger SC ist ein Sportverein mit mehreren Abteilungen. Im Jahr 2016 eröffnete der Mühlberger SC die Abteilung DART. Seit 2016 veranstaltet der Verein jährlich einen großen Darts-Event.\n",
    "Bei dem Dart-Event gibt es eine große Gewinnlotterie mit großartigen Sachpreisen. Dafür konnten sich Interessierte ein Los kaufen. Am Abend des Dart-Events findet die Ziehung der Gewinnerlose statt. Der Ziehungsleiter soll die Möglichkeit erhalten, die gezogenen Losnummern in einem Array zu speichern. Nachdem die fünf Losnummern mit Gewinnen gezogen worden sind, sollen sie ausgegeben werden.\n"
   ]
  },
  {
   "cell_type": "code",
   "execution_count": 1,
   "id": "37b67d92-e586-4ec9-972e-8908e8df215c",
   "metadata": {},
   "outputs": [
    {
     "name": "stdout",
     "output_type": "stream",
     "text": [
      "Gezogene Losnummer:  1254\n",
      "Gezogene Losnummer:  2365\n",
      "Gezogene Losnummer:  4587\n",
      "Gezogene Losnummer:  5698\n",
      "Gezogene Losnummer:  3146\n"
     ]
    },
    {
     "name": "stdout",
     "output_type": "stream",
     "text": [
      "---Gewinnlose---\n",
      "1254\n",
      "2365\n",
      "4587\n",
      "5698\n",
      "3146\n"
     ]
    }
   ],
   "source": [
    "# Deklaration und Initialisierung des Arrays\n",
    "losnummern = []\n",
    "\n",
    "# Einlesen von 5 Gewinnerlosen\n",
    "for i in range(5):\n",
    "    nr = input(\"Gezogene Losnummer: \")\n",
    "    losnummern.append(nr)\n",
    "\n",
    "# Ausgabe des Arrays\n",
    "print(\"---Gewinnlose---\")\n",
    "\n",
    "for i in range(5):\n",
    "    print(losnummern[i])"
   ]
  },
  {
   "cell_type": "markdown",
   "id": "6b34bd5c",
   "metadata": {},
   "source": [
    "[Struktogramm](Array-Aufgaben_files/figure-html/156a1a61-6407-41fd-9109-8c75ba776514-1-187ffba3-305f-43ff-abe9-677e6d14b14b.png)"
   ]
  },
  {
   "cell_type": "markdown",
   "id": "129d226a-44d6-4189-abe5-a837b80ac26e",
   "metadata": {},
   "source": [
    "# Aufgabe 3:"
   ]
  },
  {
   "cell_type": "markdown",
   "id": "836a98b1-44e3-4925-b868-0e0adc2a1136",
   "metadata": {},
   "source": [
    "# Implementierung von Arrays  –  Trainingsanalyse\n",
    "Im Training für die Vereinsmeisterschaften wirft jeder Dartspieler 6 Pfeile auf die Dartscheibe bevor der nächste Dartspieler an der Reihe ist. Sie sollen ein Programm schreiben, das aufgrund der 6 geworfenen Pfeile eine Analyse durchführt.   \n",
    "Es sollen folgende Angaben in der Konsole ausgegeben werden: Höchste Punktzahl, niedrigste Punktzahl und die durchschnittliche Punktzahl. Die Eingaben der Wurfergebnisse erfolgten ebenfalls über die Konsole (Bei einem Wurf sind maximal 60 Punkte erreichbar.)"
   ]
  },
  {
   "cell_type": "code",
   "execution_count": 3,
   "id": "19ace120-47e3-4dec-aa86-dc919102baef",
   "metadata": {},
   "outputs": [
    {
     "name": "stdout",
     "output_type": "stream",
     "text": [
      "Wurf:  5\n",
      "Wurf:  40\n",
      "Wurf:  3\n",
      "Wurf:  60\n",
      "Wurf:  30\n",
      "Wurf:  20\n"
     ]
    },
    {
     "name": "stdout",
     "output_type": "stream",
     "text": [
      "Bester Wurf: 60\n",
      "Schlechtester Wurf: 3\n",
      "Durchschnittliche Punktzahl: 26.333333333333332\n"
     ]
    }
   ],
   "source": [
    "#Deklaration und Initialisierung leeres Array\n",
    "wuerfe = []\n",
    "\n",
    "# Einlesen der Würfe\n",
    "for i in range(6):\n",
    "    wurf = int(input(\"Wurf: \"))\n",
    "    wuerfe.append(wurf)\n",
    "\n",
    "#Deklaration und Initialisierung der Variablen\n",
    "maxP = wuerfe[0]\n",
    "minP = wuerfe[0]\n",
    "mittelP = 0\n",
    "\n",
    "# Bester Wurf\n",
    "for i in range(len(wuerfe)):\n",
    "    if wuerfe[i] > maxP:\n",
    "        maxP = wuerfe[i]\n",
    "\n",
    "# Schlechtester Wurf\n",
    "for i in range(len(wuerfe)):\n",
    "    if wuerfe[i] < minP:\n",
    "        minP = wuerfe[i]\n",
    "        \n",
    "# Durchschnittliche Punktzahl pro Wurf\n",
    "for i in range(len(wuerfe)):\n",
    "    mittelP = mittelP + wuerfe[i]\n",
    "\n",
    "mittelP = mittelP / len(wuerfe)\n",
    "\n",
    "#Ausgabe\n",
    "print(\"Bester Wurf:\", maxP)\n",
    "print(\"Schlechtester Wurf:\", minP)\n",
    "print(\"Durchschnittliche Punktzahl:\", mittelP)"
   ]
  },
  {
   "cell_type": "markdown",
   "id": "eda66d9a",
   "metadata": {},
   "source": [
    "[Struktogramm](Array-Aufgaben_files/figure-html/e1f15f8b-c1a7-4a15-a428-e44cb9319f06-1-78615a06-b0ad-4257-aaa2-e7ac6f09fae3.png)"
   ]
  }
 ],
 "metadata": {
  "kernelspec": {
   "display_name": "Python 3 (ipykernel)",
   "language": "python",
   "name": "python3"
  },
  "language_info": {
   "codemirror_mode": {
    "name": "ipython",
    "version": 3
   },
   "file_extension": ".py",
   "mimetype": "text/x-python",
   "name": "python",
   "nbconvert_exporter": "python",
   "pygments_lexer": "ipython3",
   "version": "3.11.8"
  }
 },
 "nbformat": 4,
 "nbformat_minor": 5
}
