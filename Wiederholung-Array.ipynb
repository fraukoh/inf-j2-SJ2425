{
 "cells": [
  {
   "cell_type": "raw",
   "id": "d0d8fff6-16e7-4ea9-ae03-2e1d67d10757",
   "metadata": {},
   "source": [
    "---\n",
    "format:\n",
    "    html:\n",
    "        code-fold: true\n",
    "        theme: cosmo\n",
    "jupyter: python3\n",
    "---"
   ]
  },
  {
   "cell_type": "markdown",
   "id": "b065d164-6e96-4b2b-a38f-8c1ceb99c25a",
   "metadata": {},
   "source": [
    "# Wiederholung zu Arrays in Python"
   ]
  },
  {
   "cell_type": "markdown",
   "id": "1647d572-3077-4491-b758-e60c2c644d26",
   "metadata": {},
   "source": [
    "# Aufgabe 1:\n",
    "Erzeuge ein leeres Array namens `mein_array`."
   ]
  },
  {
   "cell_type": "code",
   "execution_count": 1,
   "id": "6df08961-20be-4a96-9ba5-7aab24a7a53e",
   "metadata": {
    "editable": true,
    "slideshow": {
     "slide_type": ""
    },
    "tags": [
     "versteckt"
    ]
   },
   "outputs": [
    {
     "name": "stdout",
     "output_type": "stream",
     "text": [
      "[]\n"
     ]
    }
   ],
   "source": [
    "mein_array = []\n",
    "print(mein_array)"
   ]
  },
  {
   "cell_type": "markdown",
   "id": "9a70a054-0a46-4c95-b1ab-40ac1e3ad1c8",
   "metadata": {},
   "source": [
    "# Aufgabe 2:\n",
    "Füge die Zahlen 1 bis 5 zu `mein_array` hinzu."
   ]
  },
  {
   "cell_type": "code",
   "execution_count": 2,
   "id": "9fb4a2cc-928c-4994-95a2-c76c05c4c597",
   "metadata": {
    "editable": true,
    "slideshow": {
     "slide_type": ""
    },
    "tags": []
   },
   "outputs": [
    {
     "name": "stdout",
     "output_type": "stream",
     "text": [
      "[1, 2, 3, 4, 5]\n"
     ]
    }
   ],
   "source": [
    "mein_array = [1, 2, 3, 4, 5]\n",
    "print(mein_array)"
   ]
  },
  {
   "cell_type": "markdown",
   "id": "f26bc86a-227c-4756-a134-a07b3c12f8cd",
   "metadata": {},
   "source": [
    "# Aufgabe 3:\n",
    "Erzeuge ein Array mit den Wochentagen."
   ]
  },
  {
   "cell_type": "code",
   "execution_count": 3,
   "id": "a2327e63-1b38-41e8-a9d4-8e2d1c148d78",
   "metadata": {},
   "outputs": [
    {
     "name": "stdout",
     "output_type": "stream",
     "text": [
      "['Montag', 'Dienstag', 'Mittwoch', 'Donnerstag', 'Freitag', 'Samstag', 'Sonntag']\n"
     ]
    }
   ],
   "source": [
    "tage = [\"Montag\", \"Dienstag\", \"Mittwoch\", \"Donnerstag\", \"Freitag\", \"Samstag\", \"Sonntag\"]\n",
    "print(tage)"
   ]
  },
  {
   "cell_type": "markdown",
   "id": "9e32bbca-1424-4404-b396-fb92dc45bccb",
   "metadata": {},
   "source": [
    "# Aufgabe 4:\n",
    "Lies das erste Element von `tage` aus."
   ]
  },
  {
   "cell_type": "code",
   "execution_count": 4,
   "id": "c9f62d30-d490-43d5-9b97-9fd1f53173c3",
   "metadata": {},
   "outputs": [
    {
     "name": "stdout",
     "output_type": "stream",
     "text": [
      "Montag\n"
     ]
    }
   ],
   "source": [
    "erstes_element = tage[0]\n",
    "print(erstes_element)"
   ]
  },
  {
   "cell_type": "markdown",
   "id": "fb053229-09d2-4233-b358-a6faa77b249b",
   "metadata": {},
   "source": [
    "# Aufgabe 5:\n",
    "Lies das letzte Element von `tage` aus."
   ]
  },
  {
   "cell_type": "code",
   "execution_count": 6,
   "id": "2041ef27-1c2b-4613-b4a4-b2124fce369c",
   "metadata": {},
   "outputs": [],
   "source": [
    "letztes_element = tage[-1]\n",
    "print(letztes_element)"
   ]
  },
  {
   "cell_type": "markdown",
   "id": "7c84a698-96a0-4139-a28e-a62e1c79d6bc",
   "metadata": {},
   "source": [
    "# Aufgabe 6:\n",
    "Bestimme die Länge von `mein_array`."
   ]
  },
  {
   "cell_type": "code",
   "execution_count": 5,
   "id": "9c12a3bc-fad1-4e76-a707-c65bcb413072",
   "metadata": {},
   "outputs": [
    {
     "name": "stdout",
     "output_type": "stream",
     "text": [
      "Die Länge von mein_array: 5\n"
     ]
    }
   ],
   "source": [
    "laenge_mein_array = len(mein_array)\n",
    "print(\"Die Länge von mein_array:\", laenge_mein_array)"
   ]
  },
  {
   "cell_type": "markdown",
   "id": "a046316e-50d6-4d95-ade2-bc29a35764c6",
   "metadata": {},
   "source": [
    "# Aufgabe 7:\n",
    "Bestimme die Länge von `tage`."
   ]
  },
  {
   "cell_type": "code",
   "execution_count": 8,
   "id": "4c289ee0-0561-414b-9931-ccea5ff9b18a",
   "metadata": {},
   "outputs": [],
   "source": [
    "laenge_tage = len(tage)"
   ]
  },
  {
   "cell_type": "markdown",
   "id": "4aa38830-9a26-4a65-9738-15cf273d5e43",
   "metadata": {},
   "source": [
    "# Aufgabe 8:\n",
    "Schleife durch `mein_array` und gib jedes Element aus."
   ]
  },
  {
   "cell_type": "code",
   "execution_count": 10,
   "id": "24c7aea0-54d7-481a-b81c-49bb128a05b3",
   "metadata": {},
   "outputs": [
    {
     "name": "stdout",
     "output_type": "stream",
     "text": [
      "1\n",
      "2\n",
      "3\n",
      "4\n",
      "5\n"
     ]
    }
   ],
   "source": [
    "for ind in range(len(mein_array)):\n",
    "    print(mein_array[ind])"
   ]
  },
  {
   "cell_type": "markdown",
   "id": "7fda2059-6c7a-4095-88a5-a072ba52f81e",
   "metadata": {},
   "source": [
    "# Aufgabe 9:\n",
    "Schleife durch `tage` und gib jedes Element aus."
   ]
  },
  {
   "cell_type": "code",
   "execution_count": 11,
   "id": "60c9ddb1-ac81-4242-8b0e-9d08ac0e90d6",
   "metadata": {},
   "outputs": [
    {
     "name": "stdout",
     "output_type": "stream",
     "text": [
      "Montag\n",
      "Dienstag\n",
      "Mittwoch\n",
      "Donnerstag\n",
      "Freitag\n",
      "Samstag\n",
      "Sonntag\n"
     ]
    }
   ],
   "source": [
    "for ind in range(len(tage)):\n",
    "    print(tage[ind])"
   ]
  },
  {
   "cell_type": "markdown",
   "id": "c4fe98ef-19a4-4aa0-8cee-7457a36ffebc",
   "metadata": {},
   "source": [
    "# Aufgabe 10:\n",
    "Erzeuge ein Array mit den Zahlen 10 bis 20. Verwende dabei den range-Befehl"
   ]
  },
  {
   "cell_type": "code",
   "execution_count": 6,
   "id": "72572670-c864-4749-976f-daa1955c7855",
   "metadata": {},
   "outputs": [
    {
     "name": "stdout",
     "output_type": "stream",
     "text": [
      "range(10, 21)\n"
     ]
    }
   ],
   "source": [
    "zahlen = range(10, 21)\n",
    "print(zahlen)"
   ]
  },
  {
   "cell_type": "markdown",
   "id": "1e65786b-a393-4836-a78b-cdf9a5a6adcc",
   "metadata": {},
   "source": [
    "# Aufgabe 11:\n",
    "Gib die geraden Zahlen aus `zahlen` aus.\n",
    "> Hinweis: Um zu überprüfen, ob die Zahl gerade ist, verwendet man den %-Operator. Recherchiere selber, wie der %-Operator funktioniert."
   ]
  },
  {
   "cell_type": "code",
   "execution_count": 15,
   "id": "30fc4460-8ced-4e63-ae90-fb34d5710bf2",
   "metadata": {},
   "outputs": [
    {
     "name": "stdout",
     "output_type": "stream",
     "text": [
      "10\n",
      "12\n",
      "14\n",
      "16\n",
      "18\n",
      "20\n"
     ]
    }
   ],
   "source": [
    "for ind in range(len(zahlen)):\n",
    "    if zahlen[ind] % 2 == 0:\n",
    "        print(zahlen[ind])"
   ]
  },
  {
   "cell_type": "markdown",
   "id": "614b99f5-bd93-4026-a4cc-f12b033935b8",
   "metadata": {},
   "source": [
    "# Aufgabe 12:\n",
    "Gib die ungeraden Zahlen aus `zahlen` aus."
   ]
  },
  {
   "cell_type": "code",
   "execution_count": 16,
   "id": "b7958992-534d-4615-bf66-056b0ddf8600",
   "metadata": {},
   "outputs": [
    {
     "name": "stdout",
     "output_type": "stream",
     "text": [
      "11\n",
      "13\n",
      "15\n",
      "17\n",
      "19\n"
     ]
    }
   ],
   "source": [
    "for ind in range(len(zahlen)):\n",
    "    if zahlen[ind] % 2 != 0:\n",
    "        print(zahlen[ind])"
   ]
  },
  {
   "cell_type": "markdown",
   "id": "5d9ce63f-332c-45f7-94e0-7423610637e7",
   "metadata": {},
   "source": [
    "# Aufgabe 13:\n",
    "Erzeuge ein Array mit den ersten fünf Buchstaben des Alphabets."
   ]
  },
  {
   "cell_type": "code",
   "execution_count": 8,
   "id": "38272507-95d6-46e2-b7ca-68688da86e5e",
   "metadata": {},
   "outputs": [],
   "source": [
    "buchstaben = ['A', 'B', 'C', 'D', 'E']"
   ]
  },
  {
   "cell_type": "markdown",
   "id": "92490c4b-f4a9-481b-899f-9a4cb2ea2bbc",
   "metadata": {},
   "source": [
    "# Aufgabe 14:\n",
    "Lies das dritte Element von `buchstaben` aus."
   ]
  },
  {
   "cell_type": "code",
   "execution_count": 12,
   "id": "c041566d-5aba-4529-9d06-cb79c197a970",
   "metadata": {},
   "outputs": [
    {
     "name": "stdout",
     "output_type": "stream",
     "text": [
      "C\n"
     ]
    }
   ],
   "source": [
    "drittes_element = buchstaben[2]\n",
    "print(drittes_element)"
   ]
  },
  {
   "cell_type": "markdown",
   "id": "518272e3-c4d8-41a6-91e8-5abf5fe1a5d1",
   "metadata": {},
   "source": [
    "# Aufgabe 15:\n",
    "Ändere das vierte Element von `buchstaben` zu 'Z'."
   ]
  },
  {
   "cell_type": "code",
   "execution_count": 11,
   "id": "58572a2e-8d52-4587-9f87-9ecc092393e8",
   "metadata": {},
   "outputs": [
    {
     "name": "stdout",
     "output_type": "stream",
     "text": [
      "['A', 'B', 'C', 'Z', 'E']\n"
     ]
    }
   ],
   "source": [
    "buchstaben[3] = 'Z'\n",
    "print(buchstaben)"
   ]
  },
  {
   "cell_type": "markdown",
   "id": "40c79399-f92e-401f-ac51-bdd857e686af",
   "metadata": {},
   "source": [
    "# Aufgabe 16:\n",
    "Schleife durch `buchstaben` und gib die Buchstaben aus."
   ]
  },
  {
   "cell_type": "code",
   "execution_count": 13,
   "id": "80d9b805-1dcc-4344-8201-28b7347b35d7",
   "metadata": {},
   "outputs": [
    {
     "name": "stdout",
     "output_type": "stream",
     "text": [
      "A\n",
      "B\n",
      "C\n",
      "Z\n",
      "E\n"
     ]
    }
   ],
   "source": [
    "for ind in range(len(buchstaben)):\n",
    "    print(buchstaben[ind])"
   ]
  },
  {
   "cell_type": "markdown",
   "id": "b4ae10be-41d9-40ef-9aa4-a6d9de98392f",
   "metadata": {},
   "source": [
    "# Aufgabe 17:\n",
    "Erzeuge ein Array `zufallszahlen` mit 10 Zufallszahlen zwischen 1 und 100.\n",
    "> Hinweis: recherchiere selber, wie man eine Zufallszahl in python erzeugen kann."
   ]
  },
  {
   "cell_type": "code",
   "execution_count": 15,
   "id": "168efb1a-ff91-4ba1-9b67-88825fc14562",
   "metadata": {},
   "outputs": [
    {
     "name": "stdout",
     "output_type": "stream",
     "text": [
      "[2, 93, 98, 90, 59, 25, 70, 20, 33, 44]\n"
     ]
    }
   ],
   "source": [
    "import random\n",
    "zufallszahlen = []\n",
    "for ind in range(10):\n",
    "    zufallszahlen.append(random.randint(1, 100))\n",
    "print(zufallszahlen)"
   ]
  },
  {
   "cell_type": "markdown",
   "id": "537afed9-d182-4c05-8a14-f43115b01b05",
   "metadata": {},
   "source": [
    "# Aufgabe 18:\n",
    "Bestimme die Summe der Zahlen in `zufallszahlen`."
   ]
  },
  {
   "cell_type": "code",
   "execution_count": 16,
   "id": "d14e8f1d-798d-4c64-b5f0-db75b6ab5cc9",
   "metadata": {},
   "outputs": [
    {
     "name": "stdout",
     "output_type": "stream",
     "text": [
      "Summe der Zahlen: 534\n"
     ]
    }
   ],
   "source": [
    "summe_zufallszahlen = 0\n",
    "for ind in range(len(zufallszahlen)):\n",
    "    summe_zufallszahlen = summe_zufallszahlen + zufallszahlen[ind]\n",
    "print(\"Summe der Zahlen:\", summe_zufallszahlen)"
   ]
  },
  {
   "cell_type": "markdown",
   "id": "aa2c9d26-4848-47ee-a29d-1df296c474ef",
   "metadata": {},
   "source": [
    "# Aufgabe 19:\n",
    "Finde die größte Zahl in `zufallszahlen`."
   ]
  },
  {
   "cell_type": "code",
   "execution_count": 17,
   "id": "61c25680-27fc-472d-8537-4f1d3e13cf76",
   "metadata": {},
   "outputs": [
    {
     "name": "stdout",
     "output_type": "stream",
     "text": [
      "Die größte Zahle: 98\n"
     ]
    }
   ],
   "source": [
    "groesste_zahl = zufallszahlen[0]\n",
    "for ind in range(len(zufallszahlen)):\n",
    "    if zufallszahlen[ind] > groesste_zahl:\n",
    "        groesste_zahl = zufallszahlen[ind]\n",
    "print(\"Die größte Zahle:\", groesste_zahl)"
   ]
  },
  {
   "cell_type": "markdown",
   "id": "a7d19b6b-be7d-4572-84b6-98f77579bdb8",
   "metadata": {},
   "source": [
    "# Aufgabe 20:\n",
    "Finde die kleinste Zahl in `zufallszahlen`."
   ]
  },
  {
   "cell_type": "code",
   "execution_count": 18,
   "id": "a1ef6e23-0d67-431b-a8cf-7c8374c65aca",
   "metadata": {},
   "outputs": [
    {
     "name": "stdout",
     "output_type": "stream",
     "text": [
      "Die kleinste Zahle: 2\n"
     ]
    }
   ],
   "source": [
    "kleinste_zahl = zufallszahlen[0]\n",
    "for ind in range(len(zufallszahlen)):\n",
    "    if zufallszahlen[ind] < kleinste_zahl:\n",
    "        kleinste_zahl = zufallszahlen[ind]\n",
    "print(\"Die kleinste Zahle:\", kleinste_zahl)"
   ]
  },
  {
   "cell_type": "markdown",
   "id": "7cf96eee-1f3c-4629-8f5f-6aad662682aa",
   "metadata": {},
   "source": [
    "# Aufgabe 21:\n",
    "Erstelle ein Array mit den Namen deiner drei Lieblingsfilme."
   ]
  },
  {
   "cell_type": "code",
   "execution_count": 19,
   "id": "3853f50a-084e-4ba5-ad1a-4ba51d4a505b",
   "metadata": {},
   "outputs": [
    {
     "name": "stdout",
     "output_type": "stream",
     "text": [
      "['Inception', 'Interstellar', 'Matrix']\n"
     ]
    }
   ],
   "source": [
    "filme = [\"Inception\", \"Interstellar\", \"Matrix\"]\n",
    "print(filme)"
   ]
  },
  {
   "cell_type": "markdown",
   "id": "31073e6c-e6a8-4fd8-9274-2fc5fee9bf5c",
   "metadata": {},
   "source": [
    "# Aufgabe 22:\n",
    "Füge einen weiteren Film zu `filme` hinzu."
   ]
  },
  {
   "cell_type": "code",
   "execution_count": 20,
   "id": "272940d3-0ced-47b9-91eb-d524d6e22b4c",
   "metadata": {},
   "outputs": [
    {
     "name": "stdout",
     "output_type": "stream",
     "text": [
      "['Inception', 'Interstellar', 'Matrix', 'Avatar']\n"
     ]
    }
   ],
   "source": [
    "filme.append(\"Avatar\")\n",
    "print(filme)"
   ]
  },
  {
   "cell_type": "markdown",
   "id": "a7f1cd88-e7ca-4a28-b8b3-36632354e3a7",
   "metadata": {},
   "source": [
    "# Aufgabe 23:\n",
    "Erzeuge ein Array mit den Zahlen 1 bis 10 und quadriere jede Zahl."
   ]
  },
  {
   "cell_type": "code",
   "execution_count": 21,
   "id": "57f5fd94-daae-4843-a41b-39d4ea2936a1",
   "metadata": {},
   "outputs": [
    {
     "name": "stdout",
     "output_type": "stream",
     "text": [
      "[1, 4, 9, 16, 25, 36, 49, 64, 81, 100]\n"
     ]
    }
   ],
   "source": [
    "zahlen = list(range(1, 11))\n",
    "quadrate = []\n",
    "for ind in range(len(zahlen)):\n",
    "    quadrate.append(zahlen[ind]**2)\n",
    "print(quadrate)"
   ]
  },
  {
   "cell_type": "markdown",
   "id": "aa89abac-b1c0-4da6-bd0e-ad6ee542dc63",
   "metadata": {},
   "source": [
    "# Aufgabe 24:\n",
    "Multipliziere jedes Element in `zahlen` aus der oberen Aufgabe mit 2."
   ]
  },
  {
   "cell_type": "code",
   "execution_count": 22,
   "id": "45799bb8-be7a-4d4b-a9e3-35675985bcec",
   "metadata": {},
   "outputs": [
    {
     "name": "stdout",
     "output_type": "stream",
     "text": [
      "[2, 4, 6, 8, 10, 12, 14, 16, 18, 20]\n"
     ]
    }
   ],
   "source": [
    "zahlen = list(range(1, 11))\n",
    "multipliziert_mit_2 = []\n",
    "for ind in range(len(zahlen)):\n",
    "    multipliziert_mit_2.append(zahlen[ind]*2)\n",
    "print(multipliziert_mit_2)"
   ]
  },
  {
   "cell_type": "markdown",
   "id": "660fd69a-a002-484d-832d-335fb9e93bc6",
   "metadata": {},
   "source": [
    "# Aufgabe 25:\n",
    "Erzeuge ein Array von 5 Benutzernamen und gib sie in umgekehrter Reihenfolge aus."
   ]
  },
  {
   "cell_type": "code",
   "execution_count": 24,
   "id": "d56f187a-0710-4b44-a719-d3a949baf35f",
   "metadata": {},
   "outputs": [
    {
     "name": "stdout",
     "output_type": "stream",
     "text": [
      "eve\n",
      "dave\n",
      "charlie\n",
      "bob\n",
      "alice\n"
     ]
    }
   ],
   "source": [
    "benutzernamen = [\"alice\", \"bob\", \"charlie\", \"dave\", \"eve\"]\n",
    "for ind in range(len(benutzernamen)-1, -1, -1):\n",
    "    print(benutzernamen[ind])"
   ]
  },
  {
   "cell_type": "markdown",
   "id": "0dc7cc2c-15c5-47b9-a45b-46ed744ab0f4",
   "metadata": {},
   "source": [
    "# Aufgabe 26:\n",
    "Überprüfe, ob der Name 'bob' in `benutzernamen` enthalten ist."
   ]
  },
  {
   "cell_type": "code",
   "execution_count": 26,
   "id": "7c1b580e-158e-49af-bf94-08c5acfc4859",
   "metadata": {},
   "outputs": [
    {
     "name": "stdout",
     "output_type": "stream",
     "text": [
      "Ist bob drin? True\n"
     ]
    }
   ],
   "source": [
    "ist_bob_drin = False\n",
    "for ind in range(len(benutzernamen)):\n",
    "    if benutzernamen[ind] == 'bob':\n",
    "        ist_bob_drin = True\n",
    "print(\"Ist bob drin?\", ist_bob_drin)"
   ]
  }
 ],
 "metadata": {
  "jupytext": {
   "cell_metadata_filter": "-all, -versteckt",
   "main_language": "python",
   "notebook_metadata_filter": "-all"
  },
  "kernelspec": {
   "display_name": "Python 3 (ipykernel)",
   "language": "python",
   "name": "python3"
  },
  "language_info": {
   "codemirror_mode": {
    "name": "ipython",
    "version": 3
   },
   "file_extension": ".py",
   "mimetype": "text/x-python",
   "name": "python",
   "nbconvert_exporter": "python",
   "pygments_lexer": "ipython3",
   "version": "3.11.8"
  }
 },
 "nbformat": 4,
 "nbformat_minor": 5
}
