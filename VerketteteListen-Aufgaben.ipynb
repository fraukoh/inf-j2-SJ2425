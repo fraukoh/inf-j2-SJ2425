{
 "cells": [
  {
   "cell_type": "markdown",
   "metadata": {},
   "source": [
    "## Aufgabe 1: Tagesplan\n",
    "Erstellen Sie eine verkettete Liste, die den Tagesplan einer Person speichert:\n",
    "\n",
    "- **8:00 – Frühstück**\n",
    "- **10:00 – Meeting**\n",
    "- **12:00 – Mittagessen**\n",
    "- **15:00 – Spaziergang**\n",
    "- **18:00 – Abendessen**\n",
    "\n",
    "Führen Sie folgende Änderungen durch:\n",
    "\n",
    "1. Fügen Sie **9:00 – Telefonat** zwischen Frühstück und Meeting ein.\n",
    "2. Entfernen Sie den Eintrag **15:00 – Spaziergang**.\n",
    "3. Fügen Sie **20:00 – Filmabend** am Ende der Liste hinzu.\n",
    "\n",
    "Zeichnen Sie die Struktur der Liste nach jedem Schritt."
   ]
  },
  {
   "cell_type": "markdown",
   "metadata": {},
   "source": [
    "# Aufgabe 2: Einkaufsliste\n",
    "Erstellen Sie eine verkettete Liste, die folgende Einkaufsliste speichert:\n",
    "\n",
    "- **Milch**\n",
    "- **Brot**\n",
    "- **Eier**\n",
    "- **Butter**\n",
    "\n",
    "Führen Sie folgende Änderungen durch:\n",
    "\n",
    "1. Fügen Sie **Käse** an die 3. Position ein.\n",
    "2. Entfernen Sie **Butter** aus der Liste.\n",
    "3. Fügen Sie **Äpfel** am Ende der Liste hinzu.\n",
    "\n",
    "Zeichnen Sie die Struktur der Liste nach jedem Schritt."
   ]
  }
 ],
 "metadata": {
  "kernelspec": {
   "display_name": "Python 3 (ipykernel)",
   "language": "python",
   "name": "python3"
  },
  "language_info": {
   "codemirror_mode": {
    "name": "ipython",
    "version": 3
   },
   "file_extension": ".py",
   "mimetype": "text/x-python",
   "name": "python",
   "nbconvert_exporter": "python",
   "pygments_lexer": "ipython3",
   "version": "3.11.9"
  }
 },
 "nbformat": 4,
 "nbformat_minor": 4
}
