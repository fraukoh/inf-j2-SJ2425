{
 "cells": [
  {
   "cell_type": "markdown",
   "metadata": {},
   "source": [
    "# Doppelklicken auf diesem Text und Ihren Namen eintragen"
   ]
  },
  {
   "cell_type": "markdown",
   "metadata": {},
   "source": [
    "# Aufgabe 1: [5 P]"
   ]
  },
  {
   "cell_type": "markdown",
   "metadata": {},
   "source": [
    "## Aufgabe 1.1\n",
    "Erstellen Sie mittels einem Array (```produkte```) eine Einkaufsliste bestehend aus 5 Produkten ```[Bananen, Nudeln, Butter, Zwiebeln, Klopapier]```, sowie eine Liste (```preise```) mit den dazugehörigen Preisen ```[1.9 1.2 2.3 0.8 2.5]```."
   ]
  },
  {
   "cell_type": "code",
   "execution_count": 9,
   "metadata": {},
   "outputs": [],
   "source": [
    "#Ihre Lösung hier eintippen:\n",
    "produkte = [\"Bananen\", \"Nudeln\", \"Butter\", \"Zwiebeln\", \"Klopapier\"]\n",
    "preise = [1.9, 1.2, 2.3, 0.8, 2.5]\n",
    "preise = [1.9, 1.2, 2.3, 0.8, 2.5]"
   ]
  },
  {
   "cell_type": "markdown",
   "metadata": {},
   "source": [
    "## Aufgabe 1.2\n",
    "Geben Sie das 3. Element (=Butter) aus."
   ]
  },
  {
   "cell_type": "code",
   "execution_count": 10,
   "metadata": {},
   "outputs": [
    {
     "name": "stdout",
     "output_type": "stream",
     "text": [
      "Butter\n"
     ]
    }
   ],
   "source": [
    "#Ihre Lösung hier eintippen:\n",
    "print(produkte[2])"
   ]
  },
  {
   "cell_type": "markdown",
   "metadata": {},
   "source": [
    "## Aufgabe 1.3\n",
    "Schreiben Sie das Programm, die das billigste und das teuerste Produkt ausgibt.  "
   ]
  },
  {
   "cell_type": "code",
   "execution_count": 7,
   "metadata": {},
   "outputs": [
    {
     "name": "stdout",
     "output_type": "stream",
     "text": [
      "Das billigste Produkt:  Zwiebeln 0.8 €\n",
      "Das teuerste Produkt:  Klopapier 2.5 €\n"
     ]
    }
   ],
   "source": [
    "#Ihre Lösung hier eintippen:\n",
    "ind_billig = 0\n",
    "ind_teuer = 0\n",
    "for i in range(len(preise)):\n",
    "    if preise[i] < preise[ind_billig]:\n",
    "        ind_billig = i\n",
    "    if preise[i] > preise[ind_teuer]:\n",
    "        ind_teuer = i\n",
    "print(\"Das billigste Produkt: \", produkte[ind_billig], preise[ind_billig], \"€\")\n",
    "print(\"Das teuerste Produkt: \", produkte[ind_teuer], preise[ind_teuer], \"€\")\n",
    "        "
   ]
  },
  {
   "cell_type": "markdown",
   "metadata": {},
   "source": [
    "# Aufgabe 2: [3 P]"
   ]
  },
  {
   "attachments": {
    "5d80c994-25cd-4e4f-83eb-0205d2d1ec7a.png": {
     "image/png": "[encoded data removed]"
    }
   },
   "cell_type": "markdown",
   "metadata": {},
   "source": [
    "Gegeben sei folgende Zahlenliste: ```quadrat_zahlen: [1, 4, 9, 16, 26, 36, 49, 64, 81, 99]```   \n",
    "Schreiben Sie ein Programm, welches die fehlerhaften Quadratzahlen findet.\n",
    "\n",
    "> HINWEIS: ```==``` ist in python ein Vergleichsoperator *gleich*    \n",
    "> ```!=```ist in python ein Vergleichsoperator *ungleich* \n",
    "\n",
    "__Erwartete Ausgabe:__\n",
    "\n",
    "![image.png](attachment:5d80c994-25cd-4e4f-83eb-0205d2d1ec7a.png)"
   ]
  },
  {
   "cell_type": "code",
   "execution_count": 4,
   "metadata": {},
   "outputs": [
    {
     "name": "stdout",
     "output_type": "stream",
     "text": [
      "Die Zahl  26 ist nicht die Quadratzahl von 5\n",
      "Die Zahl  99 ist nicht die Quadratzahl von 10\n"
     ]
    }
   ],
   "source": [
    "#Ihre Lösung hier eintippen:\n",
    "quadrat_zahlen = [1, 4, 9, 16, 26, 36, 49, 64, 81, 99]\n",
    "for i in range(len(quadrat_zahlen)):\n",
    "    if quadrat_zahlen[i] != (i+1)**2:\n",
    "        print(\"Die Zahl \", quadrat_zahlen[i], \"ist nicht die Quadratzahl von\", i+1)"
   ]
  },
  {
   "cell_type": "markdown",
   "metadata": {},
   "source": [
    "# Aufgabe 3: [3 P]"
   ]
  },
  {
   "attachments": {
    "1c49f6bb-faf0-4fa8-9562-7c083bceea9e.png": {
     "image/png": "[encoded data removed]"
    }
   },
   "cell_type": "markdown",
   "metadata": {},
   "source": [
    "Gegeben ist ein Array: ```A, B, C, D, E, F```\n",
    "Schreiben Sie ein Programm, welches das 2. Element (B) mit dem 5. Element (E) tauscht.\n",
    "\n",
    "__Erwartete Ausgabe__\n",
    "\n",
    "![image.png](attachment:1c49f6bb-faf0-4fa8-9562-7c083bceea9e.png)"
   ]
  },
  {
   "cell_type": "code",
   "execution_count": 3,
   "metadata": {},
   "outputs": [
    {
     "name": "stdout",
     "output_type": "stream",
     "text": [
      "['A', 'E', 'C', 'D', 'B', 'F']\n"
     ]
    }
   ],
   "source": [
    "#Ihre Lösung hier eintippen:\n",
    "vektor = [\"A\", \"B\", \"C\", \"D\", \"E\", \"F\"]\n",
    "zw = vektor[1]\n",
    "vektor[1] = vektor[4]\n",
    "vektor[4] = zw\n",
    "print(vektor)"
   ]
  },
  {
   "cell_type": "markdown",
   "metadata": {},
   "source": [
    "# Aufgabe 4: [4 P]"
   ]
  },
  {
   "attachments": {},
   "cell_type": "markdown",
   "metadata": {},
   "source": [
    "Schreiben Sie ein Programm, welches ermittelt, wie viele Einträge in dem Vektor größer als 0.5 sind.\n",
    "\n",
    "```vektor = [ 0.9,  0.87,  0.09,  0.04,  0.8,  0.73,  0.49,  0.7, 0.39,  0.05,  0.84,  0.42,  0.3,  0.31,  0.88,  0.75,  0.97,  0.61,  0.75,  0.21,  0.13,  0.23,  0.39,  0.49, 0.03,  0.29,  0.88,  0.13,  0.44,  0.92,  0.05,  0.53, 0.8,  0.61,  0.19,  0.02,  0.35,  0.97,  0.07,  0.5, 0.43,  0.39,  0.06,  0.49,  0.37,  0.09]```\n",
    "\n",
    "Von Hand zählen ist NICHT die richtige Lösung\n"
   ]
  },
  {
   "cell_type": "code",
   "execution_count": 5,
   "metadata": {},
   "outputs": [
    {
     "name": "stdout",
     "output_type": "stream",
     "text": [
      "Anzahl der Elemente größer als 0,5 =  17\n"
     ]
    }
   ],
   "source": [
    "#Ihre Lösung hier eintippen:\n",
    "vektor = [ 0.9,  0.87,  0.09,  0.04,  0.8,  0.73,  0.49,  0.7, \n",
    "        0.39,  0.05,  0.84,  0.42,  0.3,  0.31,  0.88,  0.75,  \n",
    "        0.97,  0.61,  0.75,  0.21,  0.13,  0.23,  0.39,  0.49,  \n",
    "        0.03,  0.29,  0.88,  0.13,  0.44,  0.92,  0.05,  0.53,  \n",
    "        0.8,  0.61,  0.19,  0.02,  0.35,  0.97,  0.07,  0.5,\n",
    "        0.43,  0.39,  0.06,  0.49,  0.37,  0.09]\n",
    "anzahl = 0\n",
    "for i in range(len(vektor)):\n",
    "    if vektor[i] > 0.5:\n",
    "        anzahl = anzahl +1\n",
    "print(\"Anzahl der Elemente größer als 0,5 = \", anzahl)"
   ]
  },
  {
   "cell_type": "markdown",
   "metadata": {},
   "source": [
    " # Aufgabe 5: [5 P]"
   ]
  },
  {
   "attachments": {},
   "cell_type": "markdown",
   "metadata": {},
   "source": [
    "Sortieren Sie den Vektor aus der Aufgabe 4 **absteigend** mit der BubbleSort-Methode."
   ]
  },
  {
   "cell_type": "code",
   "execution_count": 6,
   "metadata": {},
   "outputs": [
    {
     "name": "stdout",
     "output_type": "stream",
     "text": [
      "[0.97, 0.97, 0.92, 0.9, 0.88, 0.88, 0.87, 0.84, 0.8, 0.8, 0.75, 0.75, 0.73, 0.7, 0.61, 0.61, 0.53, 0.5, 0.49, 0.49, 0.49, 0.44, 0.43, 0.42, 0.39, 0.39, 0.39, 0.37, 0.35, 0.31, 0.3, 0.29, 0.23, 0.21, 0.19, 0.13, 0.13, 0.09, 0.09, 0.07, 0.06, 0.05, 0.05, 0.04, 0.03, 0.02]\n"
     ]
    }
   ],
   "source": [
    "#Ihre Lösung hier eintippen:\n",
    "vektor = [ 0.9,  0.87,  0.09,  0.04,  0.8,  0.73,  0.49,  0.7, \n",
    "        0.39,  0.05,  0.84,  0.42,  0.3,  0.31,  0.88,  0.75,  \n",
    "        0.97,  0.61,  0.75,  0.21,  0.13,  0.23,  0.39,  0.49,  \n",
    "        0.03,  0.29,  0.88,  0.13,  0.44,  0.92,  0.05,  0.53,  \n",
    "        0.8,  0.61,  0.19,  0.02,  0.35,  0.97,  0.07,  0.5,\n",
    "        0.43,  0.39,  0.06,  0.49,  0.37,  0.09]\n",
    "\n",
    "laenge = len(vektor)\n",
    "\n",
    "#Sortieren\n",
    "for i in range(1,laenge):\n",
    "    for j in range(0,laenge-i):\n",
    "        if vektor[j] < vektor[j+1]:\n",
    "            zwischenspeicher = vektor[j]\n",
    "            vektor[j] = vektor[j+1]\n",
    "            vektor[j+1] = zwischenspeicher\n",
    "\n",
    "#Ausgabe\n",
    "print(vektor)"
   ]
  }
 ],
 "metadata": {
  "kernelspec": {
   "display_name": "Python 3 (ipykernel)",
   "language": "python",
   "name": "python3"
  },
  "language_info": {
   "codemirror_mode": {
    "name": "ipython",
    "version": 3
   },
   "file_extension": ".py",
   "mimetype": "text/x-python",
   "name": "python",
   "nbconvert_exporter": "python",
   "pygments_lexer": "ipython3",
   "version": "3.10.12"
  }
 },
 "nbformat": 4,
 "nbformat_minor": 4
}
