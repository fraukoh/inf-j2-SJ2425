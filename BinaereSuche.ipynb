{
 "cells": [
  {
   "cell_type": "raw",
   "metadata": {},
   "source": [
    "---\n",
    "format:\n",
    "    html:\n",
    "        code-fold: true\n",
    "        code-summary: \"Lösung\"\n",
    "        theme: cosmo\n",
    "        css: custom.css\n",
    "jupyter: python3\n",
    "---"
   ]
  },
  {
   "cell_type": "markdown",
   "metadata": {},
   "source": [
    "# Aufgabe 1: Binäre Suche - Losnummer\n",
    "Sie erhalten den Auftrag ein Programm zu entwickeln, das dem Benutzer zurückgibt, ob seine Losnummer gewonnen hat.\n",
    "Die Losnummern der Gewinnlose sind bereits in einem Array ```ln_gewinne``` implementiert.\n",
    "\n",
    "Die Losnummern der Gewinnlose sind bereits in einem Array  ```ln_gewinne``` implemwntiert.\n",
    "\n",
    "```ln_gewinne = [11586, 12569, 22254, 23654, 32541, 55589, 85665, 87512, 98521, 98741]```\n",
    "\n",
    "Nachdem der Benutzer seine Losnummer eingegeben hat, ist mit Hilfe der binären Suche zu prüfen, ob diese Losnummer unter den Gewinnlosen ist. Ist dies der Fall, so soll die Meldung \"Sie haben gewonnen :-) \", im anderen Fall \"Sie haben leider nicht gewonnen :-( \" ausgegeben werden."
   ]
  },
  {
   "cell_type": "code",
   "execution_count": null,
   "metadata": {},
   "outputs": [],
   "source": [
    "ln_gewinne = [11586, 12569, 22254, 23654, 32541, 55589, 85665, 87512, 98521, 98741]\n",
    "\n",
    "losnr = int(input(\"Gesuchte Losnummer:\"))\n",
    "gefunden = False\n",
    "index_anfang = 0\n",
    "index_ende = len(ln_gewinne)-1\n",
    "\n",
    "while gefunden == False and index_anfang <= index_ende:\n",
    "    index_mitte = int((index_anfang + index_ende) / 2)\n",
    "        \n",
    "    if ln_gewinne[index_mitte] == losnr:\n",
    "        gefunden = True\n",
    "    elif ln_gewinne[index_mitte] > losnr:\n",
    "        index_ende = index_mitte - 1\n",
    "    else:\n",
    "        index_anfang = index_mitte + 1\n",
    "\n",
    "if gefunden:\n",
    "    print(\"Sie haben gewonnen :-)\")\n",
    "else:\n",
    "    print(\"Sie haben leider nicht gewonnen :-(\")"
   ]
  },
  {
   "cell_type": "markdown",
   "metadata": {},
   "source": [
    "[Struktogramm](BinaereSuche_files/figure-html/cell-3-1-image.png)"
   ]
  },
  {
   "cell_type": "markdown",
   "metadata": {},
   "source": [
    "# Aufgabe 2: Binäre Suche  –  Mitgliedsnummer\n",
    "Mit der Aufgabenstellung aus \"Lineare Suche Mitgliedsnummer\" wurde bereits eine Lösung mit Hilfe der linearen Suche erarbeitet.   \n",
    "In dieser Aufgabenstellung soll nach der Eingabe einer Mitgliedsnummer mit Hilfe der __binären Suche__ geprüft werden, ob die eingegebene Nummer existiert.\n",
    "Alle vergebenen Mitgliedsnummern des Vereins sind im Array ```mnr``` erfasst.\n",
    "\n",
    "```mnr =  [1001, 1019, 1014, 1009, 1005, 1002, 1018, 1008, 1003, 1010, 1007, 1004, 1020, 1013, 1015, 1011, 1017, 1012, 1006, 1016]```\n",
    "\n",
    "Wird die eingegebene Mitgliedsnummer gefunden, soll die Meldung „Zutritt gewährt“ ausgegeben werden. Wird die Nummer nicht gefunden, soll die Meldung „Zutritt verweigert“ erscheinen."
   ]
  },
  {
   "cell_type": "code",
   "execution_count": null,
   "metadata": {},
   "outputs": [],
   "source": [
    "#Mitgliedsnummern\n",
    "mnr = [1001, 1019, 1014, 1009, 1005, 1002, 1018, 1008, 1003, 1010, 1007, 1004, 1020, 1013, 1015, 1011, 1017, 1012, 1006, 1016]\n",
    "\n",
    "#Eingabe\n",
    "nummer = int(input(\"Mitgliedsnummer eingeben: \"))\n",
    "laenge = len(mnr)\n",
    "\n",
    "#Sortieurng mit Bubble Sort\n",
    "for i in range(1, laenge):\n",
    "    for j in range(0, laenge-i):\n",
    "        if mnr[j] > mnr[j+1]:\n",
    "            zwischenspeicher = mnr[j]\n",
    "            mnr[j] = mnr[j+1]\n",
    "            mnr[j+1] = zwischenspeicher\n",
    "\n",
    "# Binäre Suche\n",
    "gefunden = False\n",
    "index_anfang = 0\n",
    "index_ende = len(mnr)-1\n",
    "\n",
    "while gefunden == False and index_anfang <= index_ende:\n",
    "    index_mitte = int((index_anfang + index_ende) / 2)\n",
    "        \n",
    "    if mnr[index_mitte] == nummer:\n",
    "        gefunden = True\n",
    "    elif mnr[index_mitte] > nummer:\n",
    "        index_ende = index_mitte - 1\n",
    "    else:\n",
    "        index_anfang = index_mitte + 1\n",
    "\n",
    "#Ausgabe\n",
    "if gefunden:\n",
    "    print(\"Zutritt gewährt\")\n",
    "else:\n",
    "    print(\"Zutritt verweigert\")"
   ]
  },
  {
   "cell_type": "markdown",
   "metadata": {},
   "source": [
    "[Struktogramm](BinaereSuche_files/figure-html/cell-6-1-image.png)"
   ]
  },
  {
   "cell_type": "markdown",
   "metadata": {},
   "source": [
    "# Aufgabe 3: \n",
    "Gegeben ist folgendes Array ```[10, 12, 8, 11, 3, 15, 5, 1, 2]```\n",
    "### Aufgabe 3.1\n",
    "Nach wie vielen Vergleichen wird die Zahl 2 im Array mit der linearen Suche gefunden?"
   ]
  },
  {
   "cell_type": "code",
   "execution_count": null,
   "metadata": {},
   "outputs": [],
   "source": [
    "Die Zahl 2 wird nach neun Vergleichen gefunden."
   ]
  },
  {
   "cell_type": "markdown",
   "metadata": {},
   "source": [
    "### Aufgabe 3.2\n",
    "Nennen Sie die Voraussetzung für die Anwendung der binären Suche und bearbeiten Sie das Array entsprechend."
   ]
  },
  {
   "cell_type": "code",
   "execution_count": null,
   "metadata": {},
   "outputs": [],
   "source": [
    "Voraussetzung für die Anwendung der binären Suche ist ein sortiertes Array.\n",
    "\n",
    "Sortiertes Array = [1, 2, 3, 5, 8, 10, 11, 12, 15]"
   ]
  },
  {
   "cell_type": "markdown",
   "metadata": {},
   "source": [
    "### Aufgabe 3.3\n",
    "Wie viele Vergleiche benötigt die binäre Suche, bis die Zahl 2 in folgendem Array gefunden wird? \n",
    "\n",
    "Sortiertes Array = [1, 2, 3, 5, 8, 10, 11, 12, 15]"
   ]
  },
  {
   "cell_type": "code",
   "execution_count": null,
   "metadata": {},
   "outputs": [],
   "source": [
    "Das gesuchte Element wird nach zwei Vergleichen gefunden"
   ]
  },
  {
   "cell_type": "markdown",
   "metadata": {},
   "source": [
    "### Aufgabe 3.4\n",
    "Gegeben ist das Array ```[1, 10, 12, 58, 87, 89, 101]```.\n",
    "\n",
    "Tragen Sie in die nachfolgende Tabelle die Anzahl der Vergleiche ein, bis in dem gegebenen Array das gesuchte Element mit Hilfe der linearen Suche bzw. der binären Suche gefunden wurde.\n",
    "\n",
    "|Gesuchtes Element|1|10|12|58|87|89|101|\n",
    "|-|-|-|-|-|-|-|-|\n",
    "|lineare Suche||||||||\n",
    "|binäre Suche||||||||"
   ]
  },
  {
   "cell_type": "markdown",
   "metadata": {},
   "source": [
    "[Lösung](BinaereSuche_files/figure-html/cell-14-1-image.png)"
   ]
  }
 ],
 "metadata": {
  "kernelspec": {
   "display_name": "Python 3 (ipykernel)",
   "language": "python",
   "name": "python3"
  },
  "language_info": {
   "codemirror_mode": {
    "name": "ipython",
    "version": 3
   },
   "file_extension": ".py",
   "mimetype": "text/x-python",
   "name": "python",
   "nbconvert_exporter": "python",
   "pygments_lexer": "ipython3",
   "version": "3.11.9"
  }
 },
 "nbformat": 4,
 "nbformat_minor": 4
}
