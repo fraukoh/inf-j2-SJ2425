{
 "cells": [
  {
   "cell_type": "markdown",
   "id": "3e0d4741-0fd7-4bbb-83c3-cc1abe6e93ad",
   "metadata": {},
   "source": [
    "# Algorithmische Datenstrukturen"
   ]
  },
  {
   "cell_type": "markdown",
   "id": "c234b6c2",
   "metadata": {},
   "source": [
    "## Arrays"
   ]
  },
  {
   "cell_type": "markdown",
   "id": "7b6714bf",
   "metadata": {},
   "source": [
    "1. [Arrays in python](Wiederholung-Array.html)\n",
    "1. [Array: Aufgaben](Array-Aufgaben.html)\n",
    "1. [Inhalte aus dem Array entfernen](Inhalte-aus-dem-Array-entfernen.html)\n",
    "1. [Array: Inhalte einfügen](Array-Inhalte-einfuegen.html)"
   ]
  },
  {
   "cell_type": "markdown",
   "id": "8b604c83",
   "metadata": {},
   "source": [
    "## Algorithmen zum Sortieren"
   ]
  },
  {
   "cell_type": "markdown",
   "id": "762963e9",
   "metadata": {},
   "source": [
    "### BubbleSort\n",
    "[Präsentation](https://link.excalidraw.com/p/readonly/OP5JC7EHylH0MZahSPWX)\n",
    "\n",
    "[BubbleSort: Aufgaben](BubbleSort-Aufgaben.html)"
   ]
  },
  {
   "cell_type": "markdown",
   "id": "35e247eb",
   "metadata": {},
   "source": [
    "<iframe width=\"560\" height=\"315\" src=\"https://www.youtube.com/embed/Cq7SMsQBEUw?si=m6_BrvCqLj3YzXPN\" title=\"YouTube video player\" frameborder=\"0\" allow=\"accelerometer; autoplay; clipboard-write; encrypted-media; gyroscope; picture-in-picture; web-share\" referrerpolicy=\"strict-origin-when-cross-origin\" allowfullscreen></iframe>"
   ]
  },
  {
   "cell_type": "markdown",
   "id": "f4f40d7c",
   "metadata": {},
   "source": [
    "[Vorbereitung auf die KA-1](Vorbereitung-KA1.html)"
   ]
  },
  {
   "cell_type": "markdown",
   "id": "934e13b6-5eef-4df6-a4cc-4d0991ff7fc9",
   "metadata": {},
   "source": [
    "### SelectionSort\n",
    "[Präsentation](https://link.excalidraw.com/p/readonly/rVJ9uaXxnBjU17OClQP6)\n",
    "\n",
    "[SelectionSort: Aufgaben](SelectionSort-Aufgaben.html)\n",
    "\n",
    "test"
   ]
  }
 ],
 "metadata": {
  "kernelspec": {
   "display_name": "Python 3 (ipykernel)",
   "language": "python",
   "name": "python3"
  },
  "language_info": {
   "codemirror_mode": {
    "name": "ipython",
    "version": 3
   },
   "file_extension": ".py",
   "mimetype": "text/x-python",
   "name": "python",
   "nbconvert_exporter": "python",
   "pygments_lexer": "ipython3",
   "version": "3.11.9"
  }
 },
 "nbformat": 4,
 "nbformat_minor": 5
}
