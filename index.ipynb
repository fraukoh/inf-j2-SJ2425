{
 "cells": [
  {
   "cell_type": "markdown",
   "id": "cebd9e22-284d-4d74-8974-9da030166472",
   "metadata": {},
   "source": [
    "# Algoritmische Datenstrukturen"
   ]
  },
  {
   "cell_type": "markdown",
   "id": "9627775a-69f5-4e53-a907-6ca901e2a125",
   "metadata": {},
   "source": [
    "[Inhalte aus dem Array entfernen](Inhalte-aus-dem-Array-entfernen.html)"
   ]
  },
  {
   "cell_type": "markdown",
   "id": "d8a4e09e-a1b8-4df8-a80f-b43b89049628",
   "metadata": {},
   "source": [
    "[Inhalte aus dem Array entfernen](Inhalte-aus-dem-Array-entfernen.html)"
   ]
  },
  {
   "cell_type": "markdown",
   "id": "e0f0727e-56ed-4262-8795-44d74e93b884",
   "metadata": {},
   "source": [
    "[Inhalte aus dem Array entfernen](Inhalte-aus-dem-Array-entfernen.html)"
   ]
  },
  {
   "cell_type": "markdown",
   "id": "3e0d4741-0fd7-4bbb-83c3-cc1abe6e93ad",
   "metadata": {},
   "source": [
    "# Algoritmische Datenstrukturen"
   ]
  }
 ],
 "metadata": {
  "kernelspec": {
   "display_name": "Python 3 (ipykernel)",
   "language": "python",
   "name": "python3"
  },
  "language_info": {
   "codemirror_mode": {
    "name": "ipython",
    "version": 3
   },
   "file_extension": ".py",
   "mimetype": "text/x-python",
   "name": "python",
   "nbconvert_exporter": "python",
   "pygments_lexer": "ipython3",
   "version": "3.11.8"
  }
 },
 "nbformat": 4,
 "nbformat_minor": 5
}
