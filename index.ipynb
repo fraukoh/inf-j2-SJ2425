{
 "cells": [
  {
   "cell_type": "markdown",
   "id": "3e0d4741-0fd7-4bbb-83c3-cc1abe6e93ad",
   "metadata": {},
   "source": [
    "# Algoritmische Datenstrukturen"
   ]
  },
  {
   "cell_type": "markdown",
   "id": "c234b6c2",
   "metadata": {},
   "source": [
    "## Arrays"
   ]
  },
  {
   "cell_type": "markdown",
   "id": "7b6714bf",
   "metadata": {},
   "source": [
    "1. [Arrays in python](Wiederholung-Array.html)\n",
    "1. [Array-Aufgaben](Array-Aufgaben.html)\n",
    "1. [Inhalte aus dem Array entfernen](Inhalte-aus-dem-Array-entfernen.html)\n",
    "1. [Array-Inhalte-einfuegen](Array-Inhalte-einfuegen.html)"
   ]
  },
  {
   "cell_type": "markdown",
   "id": "8b604c83",
   "metadata": {},
   "source": [
    "## Algoritmen zum Sortieren"
   ]
  }
 ],
 "metadata": {
  "kernelspec": {
   "display_name": "Python 3 (ipykernel)",
   "language": "python",
   "name": "python3"
  },
  "language_info": {
   "codemirror_mode": {
    "name": "ipython",
    "version": 3
   },
   "file_extension": ".py",
   "mimetype": "text/x-python",
   "name": "python",
   "nbconvert_exporter": "python",
   "pygments_lexer": "ipython3",
   "version": "3.11.8"
  }
 },
 "nbformat": 4,
 "nbformat_minor": 5
}
