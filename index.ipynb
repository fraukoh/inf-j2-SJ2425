{
 "cells": [
  {
   "cell_type": "markdown",
   "id": "3e0d4741-0fd7-4bbb-83c3-cc1abe6e93ad",
   "metadata": {},
   "source": [
    "# Algorithmische Datenstrukturen"
   ]
  },
  {
   "cell_type": "markdown",
   "id": "c234b6c2",
   "metadata": {},
   "source": [
    "## Arrays"
   ]
  },
  {
   "cell_type": "markdown",
   "id": "7b6714bf",
   "metadata": {},
   "source": [
    "1. [Arrays in python](Wiederholung-Array.html)\n",
    "1. [Array: Aufgaben](Array-Aufgaben.html)\n",
    "1. [Inhalte aus dem Array entfernen](Inhalte-aus-dem-Array-entfernen.html)\n",
    "1. [Array: Inhalte einfügen](Array-Inhalte-einfuegen.html)"
   ]
  },
  {
   "cell_type": "markdown",
   "id": "8b604c83",
   "metadata": {},
   "source": [
    "## Algorithmen zum Sortieren"
   ]
  },
  {
   "cell_type": "markdown",
   "id": "762963e9",
   "metadata": {},
   "source": [
    "### BubbleSort\n",
    "[Präsentation](https://link.excalidraw.com/p/readonly/OP5JC7EHylH0MZahSPWX)\n",
    "\n",
    "[BubbleSort: Aufgaben](BubbleSort-Aufgaben.html)"
   ]
  },
  {
   "cell_type": "markdown",
   "id": "35e247eb",
   "metadata": {},
   "source": [
    "<iframe width=\"560\" height=\"315\" src=\"https://www.youtube.com/embed/Cq7SMsQBEUw?si=m6_BrvCqLj3YzXPN\" title=\"YouTube video player\" frameborder=\"0\" allow=\"accelerometer; autoplay; clipboard-write; encrypted-media; gyroscope; picture-in-picture; web-share\" referrerpolicy=\"strict-origin-when-cross-origin\" allowfullscreen></iframe>"
   ]
  },
  {
   "cell_type": "markdown",
   "id": "f4f40d7c",
   "metadata": {},
   "source": [
    "[Vorbereitung auf die KA-1](Vorbereitung-KA1.html)"
   ]
  },
  {
   "cell_type": "markdown",
   "id": "934e13b6-5eef-4df6-a4cc-4d0991ff7fc9",
   "metadata": {},
   "source": [
    "### SelectionSort\n",
    "[Präsentation](https://link.excalidraw.com/p/readonly/rVJ9uaXxnBjU17OClQP6)\n",
    "\n",
    "[SelectionSort: Aufgaben](SelectionSort-Aufgaben.html)\n",
    "\n",
    "<iframe width=\"560\" height=\"315\" src=\"https://www.youtube.com/embed/92BfuxHn2XE?si=6XANI4LcvBF8l0_m\" title=\"YouTube video player\" frameborder=\"0\" allow=\"accelerometer; autoplay; clipboard-write; encrypted-media; gyroscope; picture-in-picture; web-share\" referrerpolicy=\"strict-origin-when-cross-origin\" allowfullscreen></iframe>"
   ]
  },
  {
   "cell_type": "markdown",
   "id": "e0d8ea95",
   "metadata": {},
   "source": [
    "### BubbleSort und SelectionSort im Vergleich\n",
    "[Vertiefung](Vertiefung-Bubble-und-Selection-im-Vergleich.html)\n",
    "\n",
    "Lassen sich die charakteristischen Unterschiede zwischen BubbleSort und SelectionSort in den gezeigten Visualisierungen erkennen?"
   ]
  },
  {
   "cell_type": "markdown",
   "id": "3e6b43bf",
   "metadata": {},
   "source": [
    "## Suchalgorithmen\n",
    "### Lineare Suche\n",
    "[Präsentation](https://link.excalidraw.com/p/readonly/qMMtwRlFAVGLah2SRQkQ)\n",
    "\n",
    "[Aufgaben](LineareSuche.html)\n",
    "\n",
    "<iframe width=\"560\" height=\"315\" src=\"https://www.youtube.com/embed/HiYh4LYcLRc?si=EVjVMOB_dyjvvFND\" title=\"YouTube video player\" frameborder=\"0\" allow=\"accelerometer; autoplay; clipboard-write; encrypted-media; gyroscope; picture-in-picture; web-share\" referrerpolicy=\"strict-origin-when-cross-origin\" allowfullscreen></iframe>"
   ]
  },
  {
   "cell_type": "markdown",
   "id": "f19ff43f",
   "metadata": {},
   "source": [
    "### Binäre Suche\n",
    "[Präsentation](https://link.excalidraw.com/p/readonly/Mckodc1s6pCUt2EDBQxL)\n",
    "\n",
    "[Aufgaben](BinaereSuche.html)\n",
    "\n",
    "<iframe width=\"560\" height=\"315\" src=\"https://www.youtube.com/embed/XJUgCSejezQ?si=x9gDDJ3AkwfAGVwm\" title=\"YouTube video player\" frameborder=\"0\" allow=\"accelerometer; autoplay; clipboard-write; encrypted-media; gyroscope; picture-in-picture; web-share\" referrerpolicy=\"strict-origin-when-cross-origin\" allowfullscreen></iframe>\n"
   ]
  },
  {
   "cell_type": "markdown",
   "id": "ff3e8ef9",
   "metadata": {},
   "source": [
    "## Dynamische Datenstrukturen\n",
    "\n",
    "<iframe width=\"560\" height=\"315\" src=\"https://www.youtube.com/embed/x0k8MjvWNWw?si=r03sMbkfa0E_hjpg\" title=\"YouTube video player\" frameborder=\"0\" allow=\"accelerometer; autoplay; clipboard-write; encrypted-media; gyroscope; picture-in-picture; web-share\" referrerpolicy=\"strict-origin-when-cross-origin\" allowfullscreen></iframe>\n",
    "\n",
    "[Arbeitsblatt](https://informatik-bg.de/unterrichtsmaterial/76-dynamische-datenstrukturen/arbeitsblatt/7600_Verkettete_Liste.pdf)  \n",
    "Quelle: https://informatik-bg.de/jg2-bpe-7-3-dynamische-datenstrukturen/verkettete-listen\n",
    "\n",
    "[das Whiteboard für Ihre Lösungen](https://link.excalidraw.com/l/7rq4dRSruIo/3p5SEywB4IZ)\n",
    "\n",
    "[Übungsaufgaben](VerketteteListen-Aufgaben.html)"
   ]
  }
 ],
 "metadata": {
  "kernelspec": {
   "display_name": "Python 3 (ipykernel)",
   "language": "python",
   "name": "python3"
  },
  "language_info": {
   "codemirror_mode": {
    "name": "ipython",
    "version": 3
   },
   "file_extension": ".py",
   "mimetype": "text/x-python",
   "name": "python",
   "nbconvert_exporter": "python",
   "pygments_lexer": "ipython3",
   "version": "3.11.9"
  }
 },
 "nbformat": 4,
 "nbformat_minor": 5
}
