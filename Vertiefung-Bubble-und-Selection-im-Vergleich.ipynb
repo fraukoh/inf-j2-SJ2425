{
 "cells": [
  {
   "cell_type": "raw",
   "metadata": {},
   "source": [
    "---\n",
    "format:\n",
    "    html:\n",
    "        code-fold: true\n",
    "        theme: cosmo\n",
    "jupyter: python3\n",
    "---"
   ]
  },
  {
   "cell_type": "markdown",
   "metadata": {},
   "source": [
    "# BubbleSort und SelectionSort im Vergleich\n",
    "\n",
    "Bevor wir die beiden Suchalgorithmen vergleichen, legen wir für sie jeweils eine Funktion."
   ]
  },
  {
   "cell_type": "code",
   "execution_count": 13,
   "metadata": {},
   "outputs": [],
   "source": [
    "# Funktion für BubbleSort\n",
    "def bubble_sort(arr):\n",
    "    laenge = len(arr)\n",
    "    for i in range(laenge):\n",
    "        for j in range(0, laenge-i-1):\n",
    "            if arr[j] > arr[j+1]:\n",
    "                # Tausch\n",
    "                zwischenspeicher = arr[j]\n",
    "                arr[j] = arr[j+1]\n",
    "                arr[j+1] = zwischenspeicher\n",
    "    #Ausgabe\n",
    "    print(\"Ergebnis von BubbleSort:\")\n",
    "    print(arr)\n",
    "\n",
    "\n",
    "\n",
    "# Funktion für SelectionSort\n",
    "def selection_sort(arr):\n",
    "    laenge = len(arr)\n",
    "    for akt_idx in range(laenge-1):\n",
    "        min_idx = akt_idx\n",
    "        for j in range(akt_idx + 1, laenge):\n",
    "            #Suche nach der niedrigsten Zahl\n",
    "            if arr[j] < arr[min_idx]:\n",
    "                min_idx = j\n",
    "        #Tausch\n",
    "        zwischenspeicher = arr[akt_idx]\n",
    "        arr[akt_idx] = arr [min_idx]\n",
    "        arr[min_idx] = zwischenspeicher\n",
    "\n",
    "    #Ausgabe\n",
    "    print(\"Ergebnis von SelectionSort:\")\n",
    "    print(arr)"
   ]
  },
  {
   "cell_type": "markdown",
   "metadata": {},
   "source": [
    "Und testen die Funktionen:"
   ]
  },
  {
   "cell_type": "code",
   "execution_count": 14,
   "metadata": {},
   "outputs": [
    {
     "name": "stdout",
     "output_type": "stream",
     "text": [
      "Ergebnis von BubbleSort:\n",
      "[1, 2, 3, 4, 5, 23, 67]\n",
      "Ergebnis von SelectionSort:\n",
      "[1, 2, 3, 4, 5, 23, 67]\n"
     ]
    }
   ],
   "source": [
    "vektor = [23, 67, 5, 1, 2, 4, 3]\n",
    "bubble_sort(vektor)\n",
    "selection_sort(vektor)"
   ]
  },
  {
   "cell_type": "markdown",
   "metadata": {},
   "source": [
    "Wir modifizieren die Funktionen so, dass sie die Anzahl der Tauschvorgänge zählen, die Dauer von beiden Algorithmen messen und ausgeben."
   ]
  },
  {
   "cell_type": "code",
   "execution_count": 23,
   "metadata": {},
   "outputs": [],
   "source": [
    "import time\n",
    "# Funktion für BubbleSort\n",
    "def bubble_sort(arr):\n",
    "    anz_tausch = 0\n",
    "    laenge = len(arr)\n",
    "    start_time = time.time()\n",
    "    for i in range(laenge):\n",
    "        for j in range(0, laenge-i-1):\n",
    "            if arr[j] > arr[j+1]:\n",
    "                # Tausch\n",
    "                zwischenspeicher = arr[j]\n",
    "                arr[j] = arr[j+1]\n",
    "                arr[j+1] = zwischenspeicher\n",
    "                anz_tausch = anz_tausch + 1\n",
    "    stop_time = time.time()\n",
    "    #Ausgabe\n",
    "    print(\"Ergebnis von BubbleSort:\")\n",
    "    print(arr)\n",
    "    print(\"Anzahl der Tauschvorgänge\", anz_tausch)\n",
    "    print(\"Dauer:\", stop_time - start_time, \"Sek.\")\n",
    "\n",
    "\n",
    "\n",
    "# Funktion für SelectionSort\n",
    "def selection_sort(arr):\n",
    "    anz_tausch = 0\n",
    "    laenge = len(arr)\n",
    "    start_time = time.time()\n",
    "    for akt_idx in range(laenge-1):\n",
    "        min_idx = akt_idx\n",
    "        for j in range(akt_idx + 1, laenge):\n",
    "            #Suche nach der niedrigsten Zahl\n",
    "            if arr[j] < arr[min_idx]:\n",
    "                min_idx = j\n",
    "        #Tausch\n",
    "        zwischenspeicher = arr[akt_idx]\n",
    "        arr[akt_idx] = arr [min_idx]\n",
    "        arr[min_idx] = zwischenspeicher\n",
    "        anz_tausch = anz_tausch + 1\n",
    "    stop_time = time.time()\n",
    "    #Ausgabe\n",
    "    print(\"Ergebnis von SelectionSort:\")\n",
    "    print(arr)\n",
    "    print(\"Anzahl der Tauschvorgänge\", anz_tausch)\n",
    "    print(\"Dauer:\", stop_time - start_time, \"Sek.\")"
   ]
  },
  {
   "cell_type": "code",
   "execution_count": 24,
   "metadata": {},
   "outputs": [
    {
     "name": "stdout",
     "output_type": "stream",
     "text": [
      "Ergebnis von BubbleSort:\n",
      "[1, 2, 3, 4, 5, 23, 67]\n",
      "Anzahl der Tauschvorgänge 15\n",
      "Dauer: 2.0503997802734375e-05 Sek.\n",
      "Ergebnis von SelectionSort:\n",
      "[1, 2, 3, 4, 5, 23, 67]\n",
      "Anzahl der Tauschvorgänge 6\n",
      "Dauer: 1.430511474609375e-05 Sek.\n"
     ]
    }
   ],
   "source": [
    "vektor = [23, 67, 5, 1, 2, 4, 3]\n",
    "bubble_sort(vektor)\n",
    "selection_sort(vektor)"
   ]
  }
 ],
 "metadata": {
  "language_info": {
   "name": "python"
  }
 },
 "nbformat": 4,
 "nbformat_minor": 2
}
