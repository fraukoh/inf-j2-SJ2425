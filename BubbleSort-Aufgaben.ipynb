{
 "cells": [
  {
   "cell_type": "raw",
   "metadata": {},
   "source": [
    "---\n",
    "format:\n",
    "    html:\n",
    "        code-fold: true\n",
    "        theme: cosmo\n",
    "jupyter: python3\n",
    "---"
   ]
  },
  {
   "cell_type": "markdown",
   "metadata": {},
   "source": [
    "# Aufgabe 1: \tBubble Sort – Lottozahlen\n",
    "Die Zahlen der aktuellen Lottoziehung liegen in der Reihenfolge der Ziehung in einem Array lotto vor ```[48, 5, 17, 32, 7, 29]``` und sollen noch sortiert werden. Sie erhalten den Auftrag, ein entsprechendes Programm zu entwickeln, das die Lottozahlen mit Hilfe des Sortieralgorithmus 'Bubble Sort' sortiert und die sortierten Zahlen in der Konsole ausgibt."
   ]
  },
  {
   "cell_type": "code",
   "execution_count": null,
   "metadata": {},
   "outputs": [],
   "source": [
    "lotto = [48, 5, 17, 32 , 7, 29]\n",
    "laenge = len(lotto)\n",
    "\n",
    "#Sortieren\n",
    "for i in range(1,laenge):\n",
    "    for j in range(0,laenge-i):\n",
    "        if lotto[j] > lotto[j+1]:\n",
    "            zwischenspeicher = lotto[j]\n",
    "            lotto[j] = lotto[j+1]\n",
    "            lotto[j+1] = zwischenspeicher\n",
    "\n",
    "#Ausgabe\n",
    "print(lotto)"
   ]
  },
  {
   "cell_type": "markdown",
   "metadata": {},
   "source": [
    "[Struktogramm](BubbleSort-Aufgaben_files/figure-html/673b392b-1-image.png)"
   ]
  }
 ],
 "metadata": {
  "kernelspec": {
   "display_name": "Python 3",
   "language": "python",
   "name": "python3"
  },
  "language_info": {
   "name": "python",
   "version": "3.11.8"
  }
 },
 "nbformat": 4,
 "nbformat_minor": 2
}
